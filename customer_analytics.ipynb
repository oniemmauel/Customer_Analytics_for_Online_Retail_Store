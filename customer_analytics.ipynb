{
 "cells": [
  {
   "cell_type": "markdown",
   "id": "9f28ebee-bbd4-4108-b980-8bd6ba6d4345",
   "metadata": {},
   "source": [
    "### Customer Analytics for an Online Retail Store"
   ]
  },
  {
   "cell_type": "markdown",
   "id": "262d7cb7-0ef4-4ec1-ab84-789f196946a8",
   "metadata": {},
   "source": [
    "#### 1. Clean the dataset and make it ready for analytics"
   ]
  },
  {
   "cell_type": "code",
   "execution_count": 1,
   "id": "fec5a41f-36c2-4e37-9268-a265cbe2555d",
   "metadata": {},
   "outputs": [],
   "source": [
    "import pandas as pd"
   ]
  },
  {
   "cell_type": "code",
   "execution_count": 2,
   "id": "a34d9de2-f3eb-4289-820b-1737f9439739",
   "metadata": {},
   "outputs": [],
   "source": [
    "# Read the csv file in data folder\n",
    "transaction_df = pd.read_csv('data/transaction_dataset.csv', low_memory=False)"
   ]
  },
  {
   "cell_type": "code",
   "execution_count": 3,
   "id": "b3a90821-1146-4402-a46c-b7f2aff448e0",
   "metadata": {},
   "outputs": [
    {
     "data": {
      "text/html": [
       "<div>\n",
       "<style scoped>\n",
       "    .dataframe tbody tr th:only-of-type {\n",
       "        vertical-align: middle;\n",
       "    }\n",
       "\n",
       "    .dataframe tbody tr th {\n",
       "        vertical-align: top;\n",
       "    }\n",
       "\n",
       "    .dataframe thead th {\n",
       "        text-align: right;\n",
       "    }\n",
       "</style>\n",
       "<table border=\"1\" class=\"dataframe\">\n",
       "  <thead>\n",
       "    <tr style=\"text-align: right;\">\n",
       "      <th></th>\n",
       "      <th>CustomerID</th>\n",
       "      <th>InvoiceNo</th>\n",
       "      <th>AmountSpent</th>\n",
       "      <th>InvoiceDate</th>\n",
       "      <th>Country</th>\n",
       "    </tr>\n",
       "  </thead>\n",
       "  <tbody>\n",
       "    <tr>\n",
       "      <th>0</th>\n",
       "      <td>17850.0</td>\n",
       "      <td>536365</td>\n",
       "      <td>15.30</td>\n",
       "      <td>12/1/2010 8:26</td>\n",
       "      <td>United Kingdom</td>\n",
       "    </tr>\n",
       "    <tr>\n",
       "      <th>1</th>\n",
       "      <td>17850.0</td>\n",
       "      <td>536365</td>\n",
       "      <td>20.34</td>\n",
       "      <td>12/1/2010 8:26</td>\n",
       "      <td>United Kingdom</td>\n",
       "    </tr>\n",
       "    <tr>\n",
       "      <th>2</th>\n",
       "      <td>17850.0</td>\n",
       "      <td>536365</td>\n",
       "      <td>22.00</td>\n",
       "      <td>12/1/2010 8:26</td>\n",
       "      <td>United Kingdom</td>\n",
       "    </tr>\n",
       "    <tr>\n",
       "      <th>3</th>\n",
       "      <td>17850.0</td>\n",
       "      <td>536365</td>\n",
       "      <td>20.34</td>\n",
       "      <td>12/1/2010 8:26</td>\n",
       "      <td>United Kingdom</td>\n",
       "    </tr>\n",
       "    <tr>\n",
       "      <th>4</th>\n",
       "      <td>17850.0</td>\n",
       "      <td>536365</td>\n",
       "      <td>20.34</td>\n",
       "      <td>12/1/2010 8:26</td>\n",
       "      <td>United Kingdom</td>\n",
       "    </tr>\n",
       "  </tbody>\n",
       "</table>\n",
       "</div>"
      ],
      "text/plain": [
       "   CustomerID InvoiceNo  AmountSpent     InvoiceDate         Country\n",
       "0     17850.0    536365        15.30  12/1/2010 8:26  United Kingdom\n",
       "1     17850.0    536365        20.34  12/1/2010 8:26  United Kingdom\n",
       "2     17850.0    536365        22.00  12/1/2010 8:26  United Kingdom\n",
       "3     17850.0    536365        20.34  12/1/2010 8:26  United Kingdom\n",
       "4     17850.0    536365        20.34  12/1/2010 8:26  United Kingdom"
      ]
     },
     "execution_count": 3,
     "metadata": {},
     "output_type": "execute_result"
    }
   ],
   "source": [
    "# Displaying the first few rows of the data\n",
    "transaction_df.head()"
   ]
  },
  {
   "cell_type": "code",
   "execution_count": 4,
   "id": "bd86c167-0fd7-4b5f-b4c4-3443c4eed7f7",
   "metadata": {},
   "outputs": [
    {
     "data": {
      "text/plain": [
       "(541908, 5)"
      ]
     },
     "execution_count": 4,
     "metadata": {},
     "output_type": "execute_result"
    }
   ],
   "source": [
    "# Displaying the shape (number of rows and columns) of the dataframe\n",
    "transaction_df.shape"
   ]
  },
  {
   "cell_type": "code",
   "execution_count": 5,
   "id": "b69fbf9f-bf9d-47a1-87ed-13e395ce4ea3",
   "metadata": {},
   "outputs": [
    {
     "data": {
      "text/plain": [
       "CustomerID     135080\n",
       "InvoiceNo           0\n",
       "AmountSpent         0\n",
       "InvoiceDate         0\n",
       "Country             0\n",
       "dtype: int64"
      ]
     },
     "execution_count": 5,
     "metadata": {},
     "output_type": "execute_result"
    }
   ],
   "source": [
    "# Check and count the number of missing values (NaN) in each column of the dataframe\n",
    "transaction_df.isnull().sum()"
   ]
  },
  {
   "cell_type": "code",
   "execution_count": 6,
   "id": "3e77da6b-c074-49cf-8548-e9dc09be9ac2",
   "metadata": {},
   "outputs": [],
   "source": [
    "# Remove rows with missing values (NaN) from the DataFrame\n",
    "transaction_df.dropna(inplace=True)"
   ]
  },
  {
   "cell_type": "code",
   "execution_count": 7,
   "id": "12d2531b-6c7a-49ca-b088-9588bb4b106d",
   "metadata": {},
   "outputs": [
    {
     "data": {
      "text/plain": [
       "CustomerID     0\n",
       "InvoiceNo      0\n",
       "AmountSpent    0\n",
       "InvoiceDate    0\n",
       "Country        0\n",
       "dtype: int64"
      ]
     },
     "execution_count": 7,
     "metadata": {},
     "output_type": "execute_result"
    }
   ],
   "source": [
    "# Check for null values\n",
    "transaction_df.isnull().sum()"
   ]
  },
  {
   "cell_type": "code",
   "execution_count": 8,
   "id": "4704f2dc-933d-4725-ab40-153a13b1759e",
   "metadata": {},
   "outputs": [
    {
     "name": "stdout",
     "output_type": "stream",
     "text": [
      "<class 'pandas.core.frame.DataFrame'>\n",
      "Index: 406828 entries, 0 to 541907\n",
      "Data columns (total 5 columns):\n",
      " #   Column       Non-Null Count   Dtype  \n",
      "---  ------       --------------   -----  \n",
      " 0   CustomerID   406828 non-null  float64\n",
      " 1   InvoiceNo    406828 non-null  object \n",
      " 2   AmountSpent  406828 non-null  float64\n",
      " 3   InvoiceDate  406828 non-null  object \n",
      " 4   Country      406828 non-null  object \n",
      "dtypes: float64(2), object(3)\n",
      "memory usage: 18.6+ MB\n"
     ]
    }
   ],
   "source": [
    "# Displaying information about the DataFrame, including data types, non-null values, and memory usage\n",
    "transaction_df.info()"
   ]
  },
  {
   "cell_type": "markdown",
   "id": "7d4c6d5d-adcd-4c4f-8aa3-ebc57a1e1480",
   "metadata": {},
   "source": [
    "##### Here, there are 3 columns with the data type of object"
   ]
  },
  {
   "cell_type": "code",
   "execution_count": 9,
   "id": "ae6c9942-2433-4b17-96df-908c2312bbeb",
   "metadata": {},
   "outputs": [],
   "source": [
    "# Converting InvoiceNo from object to integer\n",
    "transaction_df['InvoiceNo'] = transaction_df['InvoiceNo'].astype(int)"
   ]
  },
  {
   "cell_type": "code",
   "execution_count": 10,
   "id": "ecc223b3-ec94-4dcc-8a75-185c4286d887",
   "metadata": {},
   "outputs": [],
   "source": [
    "# Converting InvoiceDate from object to datetime\n",
    "transaction_df['InvoiceDate'] = pd.to_datetime(transaction_df['InvoiceDate'])"
   ]
  },
  {
   "cell_type": "code",
   "execution_count": 12,
   "id": "1401c8be-e10d-4b0f-a718-5a1b0e8b0344",
   "metadata": {},
   "outputs": [],
   "source": [
    "# Converting Country from object to string\n",
    "transaction_df['Country'] = transaction_df['Country'].astype(str)"
   ]
  },
  {
   "cell_type": "code",
   "execution_count": 14,
   "id": "c2d4031c-86ec-4d76-8ff3-918e86d300e9",
   "metadata": {},
   "outputs": [],
   "source": [
    "# Converting CustomerID from float to integer\n",
    "transaction_df['CustomerID'] = transaction_df['CustomerID'].astype(int)"
   ]
  },
  {
   "cell_type": "code",
   "execution_count": 15,
   "id": "f50b04cb-9f2f-443f-a730-fed284b59ce0",
   "metadata": {},
   "outputs": [
    {
     "data": {
      "text/html": [
       "<div>\n",
       "<style scoped>\n",
       "    .dataframe tbody tr th:only-of-type {\n",
       "        vertical-align: middle;\n",
       "    }\n",
       "\n",
       "    .dataframe tbody tr th {\n",
       "        vertical-align: top;\n",
       "    }\n",
       "\n",
       "    .dataframe thead th {\n",
       "        text-align: right;\n",
       "    }\n",
       "</style>\n",
       "<table border=\"1\" class=\"dataframe\">\n",
       "  <thead>\n",
       "    <tr style=\"text-align: right;\">\n",
       "      <th></th>\n",
       "      <th>CustomerID</th>\n",
       "      <th>InvoiceNo</th>\n",
       "      <th>AmountSpent</th>\n",
       "      <th>InvoiceDate</th>\n",
       "      <th>Country</th>\n",
       "    </tr>\n",
       "  </thead>\n",
       "  <tbody>\n",
       "    <tr>\n",
       "      <th>0</th>\n",
       "      <td>17850</td>\n",
       "      <td>536365</td>\n",
       "      <td>15.30</td>\n",
       "      <td>2010-12-01 08:26:00</td>\n",
       "      <td>United Kingdom</td>\n",
       "    </tr>\n",
       "    <tr>\n",
       "      <th>1</th>\n",
       "      <td>17850</td>\n",
       "      <td>536365</td>\n",
       "      <td>20.34</td>\n",
       "      <td>2010-12-01 08:26:00</td>\n",
       "      <td>United Kingdom</td>\n",
       "    </tr>\n",
       "    <tr>\n",
       "      <th>2</th>\n",
       "      <td>17850</td>\n",
       "      <td>536365</td>\n",
       "      <td>22.00</td>\n",
       "      <td>2010-12-01 08:26:00</td>\n",
       "      <td>United Kingdom</td>\n",
       "    </tr>\n",
       "    <tr>\n",
       "      <th>3</th>\n",
       "      <td>17850</td>\n",
       "      <td>536365</td>\n",
       "      <td>20.34</td>\n",
       "      <td>2010-12-01 08:26:00</td>\n",
       "      <td>United Kingdom</td>\n",
       "    </tr>\n",
       "    <tr>\n",
       "      <th>4</th>\n",
       "      <td>17850</td>\n",
       "      <td>536365</td>\n",
       "      <td>20.34</td>\n",
       "      <td>2010-12-01 08:26:00</td>\n",
       "      <td>United Kingdom</td>\n",
       "    </tr>\n",
       "  </tbody>\n",
       "</table>\n",
       "</div>"
      ],
      "text/plain": [
       "   CustomerID  InvoiceNo  AmountSpent         InvoiceDate         Country\n",
       "0       17850     536365        15.30 2010-12-01 08:26:00  United Kingdom\n",
       "1       17850     536365        20.34 2010-12-01 08:26:00  United Kingdom\n",
       "2       17850     536365        22.00 2010-12-01 08:26:00  United Kingdom\n",
       "3       17850     536365        20.34 2010-12-01 08:26:00  United Kingdom\n",
       "4       17850     536365        20.34 2010-12-01 08:26:00  United Kingdom"
      ]
     },
     "execution_count": 15,
     "metadata": {},
     "output_type": "execute_result"
    }
   ],
   "source": [
    "# Displaying the first few rows\n",
    "transaction_df.head()"
   ]
  },
  {
   "cell_type": "code",
   "execution_count": 16,
   "id": "23c81c91-eb4a-463a-9fd5-029c1c39ad94",
   "metadata": {},
   "outputs": [
    {
     "data": {
      "text/plain": [
       "CustomerID              int32\n",
       "InvoiceNo               int32\n",
       "AmountSpent           float64\n",
       "InvoiceDate    datetime64[ns]\n",
       "Country                object\n",
       "dtype: object"
      ]
     },
     "execution_count": 16,
     "metadata": {},
     "output_type": "execute_result"
    }
   ],
   "source": [
    "# Checking the data types for all the columns\n",
    "transaction_df.dtypes"
   ]
  },
  {
   "cell_type": "markdown",
   "id": "4cdde377-f48d-478a-8fcc-40b845c7f91a",
   "metadata": {},
   "source": [
    "##### All the data are in their appropriate data types"
   ]
  },
  {
   "cell_type": "code",
   "execution_count": 17,
   "id": "e21cdd5b-f2be-47a6-803b-8e5b79b95779",
   "metadata": {},
   "outputs": [
    {
     "data": {
      "text/html": [
       "<div>\n",
       "<style scoped>\n",
       "    .dataframe tbody tr th:only-of-type {\n",
       "        vertical-align: middle;\n",
       "    }\n",
       "\n",
       "    .dataframe tbody tr th {\n",
       "        vertical-align: top;\n",
       "    }\n",
       "\n",
       "    .dataframe thead th {\n",
       "        text-align: right;\n",
       "    }\n",
       "</style>\n",
       "<table border=\"1\" class=\"dataframe\">\n",
       "  <thead>\n",
       "    <tr style=\"text-align: right;\">\n",
       "      <th></th>\n",
       "      <th>CustomerID</th>\n",
       "      <th>InvoiceNo</th>\n",
       "      <th>AmountSpent</th>\n",
       "      <th>InvoiceDate</th>\n",
       "    </tr>\n",
       "  </thead>\n",
       "  <tbody>\n",
       "    <tr>\n",
       "      <th>count</th>\n",
       "      <td>406828.000000</td>\n",
       "      <td>406828.000000</td>\n",
       "      <td>406828.000000</td>\n",
       "      <td>406828</td>\n",
       "    </tr>\n",
       "    <tr>\n",
       "      <th>mean</th>\n",
       "      <td>15287.694552</td>\n",
       "      <td>560581.737412</td>\n",
       "      <td>20.401913</td>\n",
       "      <td>2011-07-10 16:30:54.475159296</td>\n",
       "    </tr>\n",
       "    <tr>\n",
       "      <th>min</th>\n",
       "      <td>12346.000000</td>\n",
       "      <td>536365.000000</td>\n",
       "      <td>-168469.600000</td>\n",
       "      <td>2010-12-01 08:26:00</td>\n",
       "    </tr>\n",
       "    <tr>\n",
       "      <th>25%</th>\n",
       "      <td>13953.000000</td>\n",
       "      <td>549130.000000</td>\n",
       "      <td>4.200000</td>\n",
       "      <td>2011-04-06 15:02:00</td>\n",
       "    </tr>\n",
       "    <tr>\n",
       "      <th>50%</th>\n",
       "      <td>15152.000000</td>\n",
       "      <td>561873.000000</td>\n",
       "      <td>11.100000</td>\n",
       "      <td>2011-07-31 11:48:00</td>\n",
       "    </tr>\n",
       "    <tr>\n",
       "      <th>75%</th>\n",
       "      <td>16791.000000</td>\n",
       "      <td>572065.000000</td>\n",
       "      <td>19.500000</td>\n",
       "      <td>2011-10-20 13:06:00</td>\n",
       "    </tr>\n",
       "    <tr>\n",
       "      <th>max</th>\n",
       "      <td>18287.000000</td>\n",
       "      <td>581587.000000</td>\n",
       "      <td>168469.600000</td>\n",
       "      <td>2011-12-09 12:50:00</td>\n",
       "    </tr>\n",
       "    <tr>\n",
       "      <th>std</th>\n",
       "      <td>1713.600528</td>\n",
       "      <td>13105.458755</td>\n",
       "      <td>427.592241</td>\n",
       "      <td>NaN</td>\n",
       "    </tr>\n",
       "  </tbody>\n",
       "</table>\n",
       "</div>"
      ],
      "text/plain": [
       "          CustomerID      InvoiceNo    AmountSpent  \\\n",
       "count  406828.000000  406828.000000  406828.000000   \n",
       "mean    15287.694552  560581.737412      20.401913   \n",
       "min     12346.000000  536365.000000 -168469.600000   \n",
       "25%     13953.000000  549130.000000       4.200000   \n",
       "50%     15152.000000  561873.000000      11.100000   \n",
       "75%     16791.000000  572065.000000      19.500000   \n",
       "max     18287.000000  581587.000000  168469.600000   \n",
       "std      1713.600528   13105.458755     427.592241   \n",
       "\n",
       "                         InvoiceDate  \n",
       "count                         406828  \n",
       "mean   2011-07-10 16:30:54.475159296  \n",
       "min              2010-12-01 08:26:00  \n",
       "25%              2011-04-06 15:02:00  \n",
       "50%              2011-07-31 11:48:00  \n",
       "75%              2011-10-20 13:06:00  \n",
       "max              2011-12-09 12:50:00  \n",
       "std                              NaN  "
      ]
     },
     "execution_count": 17,
     "metadata": {},
     "output_type": "execute_result"
    }
   ],
   "source": [
    "### To check if all the numeric values in the dataframe are proper or not, we will use the describe method\n",
    "transaction_df.describe()"
   ]
  },
  {
   "cell_type": "markdown",
   "id": "5120aca5-c893-456b-a881-eb010ce53587",
   "metadata": {},
   "source": [
    "##### The AmountSpent column has a negative column in it, however, such column can only have a positive value that is greater then 0"
   ]
  },
  {
   "cell_type": "code",
   "execution_count": 18,
   "id": "768dba7a-1473-42ea-9cce-1430178a6202",
   "metadata": {},
   "outputs": [],
   "source": [
    "# Ensure that the 'AmountSpent' column contains only positive values\n",
    "# by taking the absolute value of each entry\n",
    "transaction_df['AmountSpent'] = transaction_df['AmountSpent'].abs()"
   ]
  },
  {
   "cell_type": "code",
   "execution_count": 19,
   "id": "95ba8760-eac3-44e8-853f-038b169116a1",
   "metadata": {},
   "outputs": [
    {
     "data": {
      "text/html": [
       "<div>\n",
       "<style scoped>\n",
       "    .dataframe tbody tr th:only-of-type {\n",
       "        vertical-align: middle;\n",
       "    }\n",
       "\n",
       "    .dataframe tbody tr th {\n",
       "        vertical-align: top;\n",
       "    }\n",
       "\n",
       "    .dataframe thead th {\n",
       "        text-align: right;\n",
       "    }\n",
       "</style>\n",
       "<table border=\"1\" class=\"dataframe\">\n",
       "  <thead>\n",
       "    <tr style=\"text-align: right;\">\n",
       "      <th></th>\n",
       "      <th>CustomerID</th>\n",
       "      <th>InvoiceNo</th>\n",
       "      <th>AmountSpent</th>\n",
       "      <th>InvoiceDate</th>\n",
       "    </tr>\n",
       "  </thead>\n",
       "  <tbody>\n",
       "    <tr>\n",
       "      <th>count</th>\n",
       "      <td>406828.000000</td>\n",
       "      <td>406828.000000</td>\n",
       "      <td>406828.000000</td>\n",
       "      <td>406828</td>\n",
       "    </tr>\n",
       "    <tr>\n",
       "      <th>mean</th>\n",
       "      <td>15287.694552</td>\n",
       "      <td>560581.737412</td>\n",
       "      <td>23.407303</td>\n",
       "      <td>2011-07-10 16:30:54.475159296</td>\n",
       "    </tr>\n",
       "    <tr>\n",
       "      <th>min</th>\n",
       "      <td>12346.000000</td>\n",
       "      <td>536365.000000</td>\n",
       "      <td>0.000000</td>\n",
       "      <td>2010-12-01 08:26:00</td>\n",
       "    </tr>\n",
       "    <tr>\n",
       "      <th>25%</th>\n",
       "      <td>13953.000000</td>\n",
       "      <td>549130.000000</td>\n",
       "      <td>4.680000</td>\n",
       "      <td>2011-04-06 15:02:00</td>\n",
       "    </tr>\n",
       "    <tr>\n",
       "      <th>50%</th>\n",
       "      <td>15152.000000</td>\n",
       "      <td>561873.000000</td>\n",
       "      <td>11.800000</td>\n",
       "      <td>2011-07-31 11:48:00</td>\n",
       "    </tr>\n",
       "    <tr>\n",
       "      <th>75%</th>\n",
       "      <td>16791.000000</td>\n",
       "      <td>572065.000000</td>\n",
       "      <td>19.800000</td>\n",
       "      <td>2011-10-20 13:06:00</td>\n",
       "    </tr>\n",
       "    <tr>\n",
       "      <th>max</th>\n",
       "      <td>18287.000000</td>\n",
       "      <td>581587.000000</td>\n",
       "      <td>168469.600000</td>\n",
       "      <td>2011-12-09 12:50:00</td>\n",
       "    </tr>\n",
       "    <tr>\n",
       "      <th>std</th>\n",
       "      <td>1713.600528</td>\n",
       "      <td>13105.458755</td>\n",
       "      <td>427.438254</td>\n",
       "      <td>NaN</td>\n",
       "    </tr>\n",
       "  </tbody>\n",
       "</table>\n",
       "</div>"
      ],
      "text/plain": [
       "          CustomerID      InvoiceNo    AmountSpent  \\\n",
       "count  406828.000000  406828.000000  406828.000000   \n",
       "mean    15287.694552  560581.737412      23.407303   \n",
       "min     12346.000000  536365.000000       0.000000   \n",
       "25%     13953.000000  549130.000000       4.680000   \n",
       "50%     15152.000000  561873.000000      11.800000   \n",
       "75%     16791.000000  572065.000000      19.800000   \n",
       "max     18287.000000  581587.000000  168469.600000   \n",
       "std      1713.600528   13105.458755     427.438254   \n",
       "\n",
       "                         InvoiceDate  \n",
       "count                         406828  \n",
       "mean   2011-07-10 16:30:54.475159296  \n",
       "min              2010-12-01 08:26:00  \n",
       "25%              2011-04-06 15:02:00  \n",
       "50%              2011-07-31 11:48:00  \n",
       "75%              2011-10-20 13:06:00  \n",
       "max              2011-12-09 12:50:00  \n",
       "std                              NaN  "
      ]
     },
     "execution_count": 19,
     "metadata": {},
     "output_type": "execute_result"
    }
   ],
   "source": [
    "# Let's check the numeric value again\n",
    "transaction_df.describe()"
   ]
  },
  {
   "cell_type": "code",
   "execution_count": 20,
   "id": "59403050-32aa-44fd-b962-ac6a03db863b",
   "metadata": {},
   "outputs": [],
   "source": [
    "# Yay! the dataset is now clean. Let's save the cleaned dataset as a new CSV file\n",
    "transaction_df.to_csv('data/customer_dataset.csv', header=True, index=False)"
   ]
  },
  {
   "cell_type": "markdown",
   "id": "6db64224-0077-40df-b2cf-27d4fca9d49a",
   "metadata": {},
   "source": [
    "#### 2. Performing Customer Analytics"
   ]
  },
  {
   "cell_type": "code",
   "execution_count": 1,
   "id": "ae4aaae5-ca08-4e75-b089-a3e01792f4c2",
   "metadata": {},
   "outputs": [],
   "source": [
    "import pandas as pd\n",
    "import matplotlib.pyplot as plt\n",
    "\n",
    "%matplotlib inline"
   ]
  },
  {
   "cell_type": "code",
   "execution_count": 3,
   "id": "b0375732-8cda-4d7c-bb06-dd180cb86d4d",
   "metadata": {},
   "outputs": [],
   "source": [
    "# Read the CSV file as panda dataframe\n",
    "customer_df = pd.read_csv('data/customer_dataset.csv')"
   ]
  },
  {
   "cell_type": "code",
   "execution_count": 4,
   "id": "7cb422d9-e34c-4eab-9b01-fb5ace2a666f",
   "metadata": {
    "tags": []
   },
   "outputs": [
    {
     "data": {
      "text/html": [
       "<div>\n",
       "<style scoped>\n",
       "    .dataframe tbody tr th:only-of-type {\n",
       "        vertical-align: middle;\n",
       "    }\n",
       "\n",
       "    .dataframe tbody tr th {\n",
       "        vertical-align: top;\n",
       "    }\n",
       "\n",
       "    .dataframe thead th {\n",
       "        text-align: right;\n",
       "    }\n",
       "</style>\n",
       "<table border=\"1\" class=\"dataframe\">\n",
       "  <thead>\n",
       "    <tr style=\"text-align: right;\">\n",
       "      <th></th>\n",
       "      <th>CustomerID</th>\n",
       "      <th>InvoiceNo</th>\n",
       "      <th>AmountSpent</th>\n",
       "      <th>InvoiceDate</th>\n",
       "      <th>Country</th>\n",
       "    </tr>\n",
       "  </thead>\n",
       "  <tbody>\n",
       "    <tr>\n",
       "      <th>0</th>\n",
       "      <td>17850</td>\n",
       "      <td>536365</td>\n",
       "      <td>15.30</td>\n",
       "      <td>2010-12-01 08:26:00</td>\n",
       "      <td>United Kingdom</td>\n",
       "    </tr>\n",
       "    <tr>\n",
       "      <th>1</th>\n",
       "      <td>17850</td>\n",
       "      <td>536365</td>\n",
       "      <td>20.34</td>\n",
       "      <td>2010-12-01 08:26:00</td>\n",
       "      <td>United Kingdom</td>\n",
       "    </tr>\n",
       "    <tr>\n",
       "      <th>2</th>\n",
       "      <td>17850</td>\n",
       "      <td>536365</td>\n",
       "      <td>22.00</td>\n",
       "      <td>2010-12-01 08:26:00</td>\n",
       "      <td>United Kingdom</td>\n",
       "    </tr>\n",
       "    <tr>\n",
       "      <th>3</th>\n",
       "      <td>17850</td>\n",
       "      <td>536365</td>\n",
       "      <td>20.34</td>\n",
       "      <td>2010-12-01 08:26:00</td>\n",
       "      <td>United Kingdom</td>\n",
       "    </tr>\n",
       "    <tr>\n",
       "      <th>4</th>\n",
       "      <td>17850</td>\n",
       "      <td>536365</td>\n",
       "      <td>20.34</td>\n",
       "      <td>2010-12-01 08:26:00</td>\n",
       "      <td>United Kingdom</td>\n",
       "    </tr>\n",
       "  </tbody>\n",
       "</table>\n",
       "</div>"
      ],
      "text/plain": [
       "   CustomerID  InvoiceNo  AmountSpent          InvoiceDate         Country\n",
       "0       17850     536365        15.30  2010-12-01 08:26:00  United Kingdom\n",
       "1       17850     536365        20.34  2010-12-01 08:26:00  United Kingdom\n",
       "2       17850     536365        22.00  2010-12-01 08:26:00  United Kingdom\n",
       "3       17850     536365        20.34  2010-12-01 08:26:00  United Kingdom\n",
       "4       17850     536365        20.34  2010-12-01 08:26:00  United Kingdom"
      ]
     },
     "execution_count": 4,
     "metadata": {},
     "output_type": "execute_result"
    }
   ],
   "source": [
    "# Displaying the first few rows of the data\n",
    "customer_df.head()"
   ]
  },
  {
   "cell_type": "code",
   "execution_count": 6,
   "id": "8067b3e5-81e4-4f2a-932b-e9d5b8cc9f9b",
   "metadata": {},
   "outputs": [
    {
     "data": {
      "text/plain": [
       "(406828, 5)"
      ]
     },
     "execution_count": 6,
     "metadata": {},
     "output_type": "execute_result"
    }
   ],
   "source": [
    "# Displaying the number of rows and columns of the dataframe\n",
    "customer_df.shape"
   ]
  },
  {
   "cell_type": "markdown",
   "id": "efeae6d1-ab03-4ad7-9236-54776e94a236",
   "metadata": {},
   "source": [
    "##### Let's start analysis by determining how many unique data values are present in each column"
   ]
  },
  {
   "cell_type": "code",
   "execution_count": 7,
   "id": "7140080a-faaa-4bf5-a604-1ab6d915fb63",
   "metadata": {},
   "outputs": [
    {
     "data": {
      "text/plain": [
       "CustomerID      4372\n",
       "InvoiceNo      22189\n",
       "AmountSpent     3027\n",
       "InvoiceDate    20460\n",
       "Country           37\n",
       "dtype: int64"
      ]
     },
     "execution_count": 7,
     "metadata": {},
     "output_type": "execute_result"
    }
   ],
   "source": [
    "# Printing the no of unique data values\n",
    "customer_df.nunique()"
   ]
  },
  {
   "cell_type": "markdown",
   "id": "074eae59-2a08-419b-bec9-60bcb2b8ff0c",
   "metadata": {},
   "source": [
    "##### This dataset hold information of about 4372 customers from 37 different countries\n",
    "\n",
    "##### Now, let's find the total number of unique customers per country"
   ]
  },
  {
   "cell_type": "code",
   "execution_count": 8,
   "id": "685120d4-0eb5-489a-ab81-2b6ecff1fe50",
   "metadata": {},
   "outputs": [
    {
     "data": {
      "text/html": [
       "<div>\n",
       "<style scoped>\n",
       "    .dataframe tbody tr th:only-of-type {\n",
       "        vertical-align: middle;\n",
       "    }\n",
       "\n",
       "    .dataframe tbody tr th {\n",
       "        vertical-align: top;\n",
       "    }\n",
       "\n",
       "    .dataframe thead th {\n",
       "        text-align: right;\n",
       "    }\n",
       "</style>\n",
       "<table border=\"1\" class=\"dataframe\">\n",
       "  <thead>\n",
       "    <tr style=\"text-align: right;\">\n",
       "      <th></th>\n",
       "      <th>CustomerID</th>\n",
       "    </tr>\n",
       "    <tr>\n",
       "      <th>Country</th>\n",
       "      <th></th>\n",
       "    </tr>\n",
       "  </thead>\n",
       "  <tbody>\n",
       "    <tr>\n",
       "      <th>Australia</th>\n",
       "      <td>9</td>\n",
       "    </tr>\n",
       "    <tr>\n",
       "      <th>Austria</th>\n",
       "      <td>11</td>\n",
       "    </tr>\n",
       "    <tr>\n",
       "      <th>Bahrain</th>\n",
       "      <td>2</td>\n",
       "    </tr>\n",
       "    <tr>\n",
       "      <th>Belgium</th>\n",
       "      <td>25</td>\n",
       "    </tr>\n",
       "    <tr>\n",
       "      <th>Brazil</th>\n",
       "      <td>1</td>\n",
       "    </tr>\n",
       "    <tr>\n",
       "      <th>Canada</th>\n",
       "      <td>4</td>\n",
       "    </tr>\n",
       "    <tr>\n",
       "      <th>Channel Islands</th>\n",
       "      <td>9</td>\n",
       "    </tr>\n",
       "    <tr>\n",
       "      <th>Cyprus</th>\n",
       "      <td>8</td>\n",
       "    </tr>\n",
       "    <tr>\n",
       "      <th>Czech Republic</th>\n",
       "      <td>1</td>\n",
       "    </tr>\n",
       "    <tr>\n",
       "      <th>Denmark</th>\n",
       "      <td>9</td>\n",
       "    </tr>\n",
       "    <tr>\n",
       "      <th>EIRE</th>\n",
       "      <td>3</td>\n",
       "    </tr>\n",
       "    <tr>\n",
       "      <th>European Community</th>\n",
       "      <td>1</td>\n",
       "    </tr>\n",
       "    <tr>\n",
       "      <th>Finland</th>\n",
       "      <td>12</td>\n",
       "    </tr>\n",
       "    <tr>\n",
       "      <th>France</th>\n",
       "      <td>87</td>\n",
       "    </tr>\n",
       "    <tr>\n",
       "      <th>Germany</th>\n",
       "      <td>95</td>\n",
       "    </tr>\n",
       "    <tr>\n",
       "      <th>Greece</th>\n",
       "      <td>4</td>\n",
       "    </tr>\n",
       "    <tr>\n",
       "      <th>Iceland</th>\n",
       "      <td>1</td>\n",
       "    </tr>\n",
       "    <tr>\n",
       "      <th>Israel</th>\n",
       "      <td>4</td>\n",
       "    </tr>\n",
       "    <tr>\n",
       "      <th>Italy</th>\n",
       "      <td>15</td>\n",
       "    </tr>\n",
       "    <tr>\n",
       "      <th>Japan</th>\n",
       "      <td>8</td>\n",
       "    </tr>\n",
       "    <tr>\n",
       "      <th>Lebanon</th>\n",
       "      <td>1</td>\n",
       "    </tr>\n",
       "    <tr>\n",
       "      <th>Lithuania</th>\n",
       "      <td>1</td>\n",
       "    </tr>\n",
       "    <tr>\n",
       "      <th>Malta</th>\n",
       "      <td>2</td>\n",
       "    </tr>\n",
       "    <tr>\n",
       "      <th>Netherlands</th>\n",
       "      <td>9</td>\n",
       "    </tr>\n",
       "    <tr>\n",
       "      <th>Norway</th>\n",
       "      <td>10</td>\n",
       "    </tr>\n",
       "    <tr>\n",
       "      <th>Poland</th>\n",
       "      <td>6</td>\n",
       "    </tr>\n",
       "    <tr>\n",
       "      <th>Portugal</th>\n",
       "      <td>19</td>\n",
       "    </tr>\n",
       "    <tr>\n",
       "      <th>RSA</th>\n",
       "      <td>1</td>\n",
       "    </tr>\n",
       "    <tr>\n",
       "      <th>Saudi Arabia</th>\n",
       "      <td>1</td>\n",
       "    </tr>\n",
       "    <tr>\n",
       "      <th>Singapore</th>\n",
       "      <td>1</td>\n",
       "    </tr>\n",
       "    <tr>\n",
       "      <th>Spain</th>\n",
       "      <td>31</td>\n",
       "    </tr>\n",
       "    <tr>\n",
       "      <th>Sweden</th>\n",
       "      <td>8</td>\n",
       "    </tr>\n",
       "    <tr>\n",
       "      <th>Switzerland</th>\n",
       "      <td>21</td>\n",
       "    </tr>\n",
       "    <tr>\n",
       "      <th>USA</th>\n",
       "      <td>4</td>\n",
       "    </tr>\n",
       "    <tr>\n",
       "      <th>United Arab Emirates</th>\n",
       "      <td>2</td>\n",
       "    </tr>\n",
       "    <tr>\n",
       "      <th>United Kingdom</th>\n",
       "      <td>3950</td>\n",
       "    </tr>\n",
       "    <tr>\n",
       "      <th>Unspecified</th>\n",
       "      <td>4</td>\n",
       "    </tr>\n",
       "  </tbody>\n",
       "</table>\n",
       "</div>"
      ],
      "text/plain": [
       "                      CustomerID\n",
       "Country                         \n",
       "Australia                      9\n",
       "Austria                       11\n",
       "Bahrain                        2\n",
       "Belgium                       25\n",
       "Brazil                         1\n",
       "Canada                         4\n",
       "Channel Islands                9\n",
       "Cyprus                         8\n",
       "Czech Republic                 1\n",
       "Denmark                        9\n",
       "EIRE                           3\n",
       "European Community             1\n",
       "Finland                       12\n",
       "France                        87\n",
       "Germany                       95\n",
       "Greece                         4\n",
       "Iceland                        1\n",
       "Israel                         4\n",
       "Italy                         15\n",
       "Japan                          8\n",
       "Lebanon                        1\n",
       "Lithuania                      1\n",
       "Malta                          2\n",
       "Netherlands                    9\n",
       "Norway                        10\n",
       "Poland                         6\n",
       "Portugal                      19\n",
       "RSA                            1\n",
       "Saudi Arabia                   1\n",
       "Singapore                      1\n",
       "Spain                         31\n",
       "Sweden                         8\n",
       "Switzerland                   21\n",
       "USA                            4\n",
       "United Arab Emirates           2\n",
       "United Kingdom              3950\n",
       "Unspecified                    4"
      ]
     },
     "execution_count": 8,
     "metadata": {},
     "output_type": "execute_result"
    }
   ],
   "source": [
    "# Getting the total no of unique customers per country\n",
    "customer_df.groupby(['Country'])[['CustomerID']].nunique()"
   ]
  },
  {
   "cell_type": "code",
   "execution_count": 9,
   "id": "40f87db6-59fd-4f60-ab76-e1d302077bfd",
   "metadata": {},
   "outputs": [],
   "source": [
    "# Assigning variable to the total number of unique customers per country\n",
    "df_country = customer_df.groupby(['Country'])[['CustomerID']].nunique()"
   ]
  },
  {
   "cell_type": "code",
   "execution_count": 10,
   "id": "3c4b8cb2-1b33-41ed-bf15-114e6b3556fe",
   "metadata": {},
   "outputs": [
    {
     "data": {
      "text/html": [
       "<div>\n",
       "<style scoped>\n",
       "    .dataframe tbody tr th:only-of-type {\n",
       "        vertical-align: middle;\n",
       "    }\n",
       "\n",
       "    .dataframe tbody tr th {\n",
       "        vertical-align: top;\n",
       "    }\n",
       "\n",
       "    .dataframe thead th {\n",
       "        text-align: right;\n",
       "    }\n",
       "</style>\n",
       "<table border=\"1\" class=\"dataframe\">\n",
       "  <thead>\n",
       "    <tr style=\"text-align: right;\">\n",
       "      <th></th>\n",
       "      <th>no_of_customers</th>\n",
       "    </tr>\n",
       "    <tr>\n",
       "      <th>Country</th>\n",
       "      <th></th>\n",
       "    </tr>\n",
       "  </thead>\n",
       "  <tbody>\n",
       "    <tr>\n",
       "      <th>United Kingdom</th>\n",
       "      <td>3950</td>\n",
       "    </tr>\n",
       "    <tr>\n",
       "      <th>Germany</th>\n",
       "      <td>95</td>\n",
       "    </tr>\n",
       "    <tr>\n",
       "      <th>France</th>\n",
       "      <td>87</td>\n",
       "    </tr>\n",
       "    <tr>\n",
       "      <th>Spain</th>\n",
       "      <td>31</td>\n",
       "    </tr>\n",
       "    <tr>\n",
       "      <th>Belgium</th>\n",
       "      <td>25</td>\n",
       "    </tr>\n",
       "  </tbody>\n",
       "</table>\n",
       "</div>"
      ],
      "text/plain": [
       "                no_of_customers\n",
       "Country                        \n",
       "United Kingdom             3950\n",
       "Germany                      95\n",
       "France                       87\n",
       "Spain                        31\n",
       "Belgium                      25"
      ]
     },
     "execution_count": 10,
     "metadata": {},
     "output_type": "execute_result"
    }
   ],
   "source": [
    "# Renaming the column names\n",
    "df_country.columns = ['no_of_customers']\n",
    "\n",
    "# Sorting the dataset based on number of customers\n",
    "df_country = df_country.sort_values('no_of_customers', ascending=False)\n",
    "\n",
    "# Displaying the first few rows\n",
    "df_country.head()"
   ]
  },
  {
   "cell_type": "code",
   "execution_count": 12,
   "id": "da105470-6ee4-456c-a211-fb619734f560",
   "metadata": {},
   "outputs": [
    {
     "data": {
      "image/png": "[encoded data removed]",
      "text/plain": [
       "<Figure size 1296x432 with 1 Axes>"
      ]
     },
     "metadata": {
      "needs_background": "light"
     },
     "output_type": "display_data"
    }
   ],
   "source": [
    "# Visualizing the number of customers per country in a bar plot\n",
    "# Plotting a bar plot\n",
    "df_country.plot(kind='bar', figsize = (18, 6))\n",
    "plt.ylabel('No of Customers')\n",
    "plt.show()"
   ]
  },
  {
   "cell_type": "markdown",
   "id": "394a1484-3879-49e5-b287-4a0b9d84aa55",
   "metadata": {},
   "source": [
    "##### How the customers are generating revenue by calculating the total amount of transaction per month"
   ]
  },
  {
   "cell_type": "code",
   "execution_count": 14,
   "id": "b6bac5f0-dced-4bd5-87e9-9410700dc74b",
   "metadata": {},
   "outputs": [
    {
     "data": {
      "text/html": [
       "<div>\n",
       "<style scoped>\n",
       "    .dataframe tbody tr th:only-of-type {\n",
       "        vertical-align: middle;\n",
       "    }\n",
       "\n",
       "    .dataframe tbody tr th {\n",
       "        vertical-align: top;\n",
       "    }\n",
       "\n",
       "    .dataframe thead th {\n",
       "        text-align: right;\n",
       "    }\n",
       "</style>\n",
       "<table border=\"1\" class=\"dataframe\">\n",
       "  <thead>\n",
       "    <tr style=\"text-align: right;\">\n",
       "      <th></th>\n",
       "      <th>CustomerID</th>\n",
       "      <th>InvoiceNo</th>\n",
       "      <th>AmountSpent</th>\n",
       "      <th>InvoiceDate</th>\n",
       "      <th>Country</th>\n",
       "    </tr>\n",
       "  </thead>\n",
       "  <tbody>\n",
       "    <tr>\n",
       "      <th>0</th>\n",
       "      <td>17850</td>\n",
       "      <td>536365</td>\n",
       "      <td>15.30</td>\n",
       "      <td>2010-12-01 08:26:00</td>\n",
       "      <td>United Kingdom</td>\n",
       "    </tr>\n",
       "    <tr>\n",
       "      <th>1</th>\n",
       "      <td>17850</td>\n",
       "      <td>536365</td>\n",
       "      <td>20.34</td>\n",
       "      <td>2010-12-01 08:26:00</td>\n",
       "      <td>United Kingdom</td>\n",
       "    </tr>\n",
       "    <tr>\n",
       "      <th>2</th>\n",
       "      <td>17850</td>\n",
       "      <td>536365</td>\n",
       "      <td>22.00</td>\n",
       "      <td>2010-12-01 08:26:00</td>\n",
       "      <td>United Kingdom</td>\n",
       "    </tr>\n",
       "    <tr>\n",
       "      <th>3</th>\n",
       "      <td>17850</td>\n",
       "      <td>536365</td>\n",
       "      <td>20.34</td>\n",
       "      <td>2010-12-01 08:26:00</td>\n",
       "      <td>United Kingdom</td>\n",
       "    </tr>\n",
       "    <tr>\n",
       "      <th>4</th>\n",
       "      <td>17850</td>\n",
       "      <td>536365</td>\n",
       "      <td>20.34</td>\n",
       "      <td>2010-12-01 08:26:00</td>\n",
       "      <td>United Kingdom</td>\n",
       "    </tr>\n",
       "  </tbody>\n",
       "</table>\n",
       "</div>"
      ],
      "text/plain": [
       "   CustomerID  InvoiceNo  AmountSpent          InvoiceDate         Country\n",
       "0       17850     536365        15.30  2010-12-01 08:26:00  United Kingdom\n",
       "1       17850     536365        20.34  2010-12-01 08:26:00  United Kingdom\n",
       "2       17850     536365        22.00  2010-12-01 08:26:00  United Kingdom\n",
       "3       17850     536365        20.34  2010-12-01 08:26:00  United Kingdom\n",
       "4       17850     536365        20.34  2010-12-01 08:26:00  United Kingdom"
      ]
     },
     "execution_count": 14,
     "metadata": {},
     "output_type": "execute_result"
    }
   ],
   "source": [
    "# Displaying the first few rows\n",
    "customer_df.head()"
   ]
  },
  {
   "cell_type": "code",
   "execution_count": 15,
   "id": "3f2beaec-5954-48d4-b77f-d4b1d00742d9",
   "metadata": {},
   "outputs": [
    {
     "data": {
      "text/plain": [
       "0         2010-12\n",
       "1         2010-12\n",
       "2         2010-12\n",
       "3         2010-12\n",
       "4         2010-12\n",
       "           ...   \n",
       "406823    2011-12\n",
       "406824    2011-12\n",
       "406825    2011-12\n",
       "406826    2011-12\n",
       "406827    2011-12\n",
       "Name: InvoiceDate, Length: 406828, dtype: object"
      ]
     },
     "execution_count": 15,
     "metadata": {},
     "output_type": "execute_result"
    }
   ],
   "source": [
    "# Getting only the year and month from the InvoiceDate column\n",
    "pd.to_datetime(customer_df['InvoiceDate']).apply(lambda x:x.strftime(\"%Y-%m\"))"
   ]
  },
  {
   "cell_type": "code",
   "execution_count": 18,
   "id": "25762dc5-e21f-4794-859e-8725bfe35e01",
   "metadata": {},
   "outputs": [],
   "source": [
    "# Assigning the year and month to a new column named \"InvoiceYearMonth\"\n",
    "customer_df['InvoiceYearMonth'] = pd.to_datetime(customer_df['InvoiceDate']).apply(lambda x:x.strftime(\"%Y-%m\"))"
   ]
  },
  {
   "cell_type": "code",
   "execution_count": 19,
   "id": "76a85694-f349-4408-a8b7-0c21c00cdacc",
   "metadata": {},
   "outputs": [
    {
     "data": {
      "text/html": [
       "<div>\n",
       "<style scoped>\n",
       "    .dataframe tbody tr th:only-of-type {\n",
       "        vertical-align: middle;\n",
       "    }\n",
       "\n",
       "    .dataframe tbody tr th {\n",
       "        vertical-align: top;\n",
       "    }\n",
       "\n",
       "    .dataframe thead th {\n",
       "        text-align: right;\n",
       "    }\n",
       "</style>\n",
       "<table border=\"1\" class=\"dataframe\">\n",
       "  <thead>\n",
       "    <tr style=\"text-align: right;\">\n",
       "      <th></th>\n",
       "      <th>CustomerID</th>\n",
       "      <th>InvoiceNo</th>\n",
       "      <th>AmountSpent</th>\n",
       "      <th>InvoiceDate</th>\n",
       "      <th>Country</th>\n",
       "      <th>InvoiceYearMonth</th>\n",
       "    </tr>\n",
       "  </thead>\n",
       "  <tbody>\n",
       "    <tr>\n",
       "      <th>0</th>\n",
       "      <td>17850</td>\n",
       "      <td>536365</td>\n",
       "      <td>15.30</td>\n",
       "      <td>2010-12-01 08:26:00</td>\n",
       "      <td>United Kingdom</td>\n",
       "      <td>2010-12</td>\n",
       "    </tr>\n",
       "    <tr>\n",
       "      <th>1</th>\n",
       "      <td>17850</td>\n",
       "      <td>536365</td>\n",
       "      <td>20.34</td>\n",
       "      <td>2010-12-01 08:26:00</td>\n",
       "      <td>United Kingdom</td>\n",
       "      <td>2010-12</td>\n",
       "    </tr>\n",
       "    <tr>\n",
       "      <th>2</th>\n",
       "      <td>17850</td>\n",
       "      <td>536365</td>\n",
       "      <td>22.00</td>\n",
       "      <td>2010-12-01 08:26:00</td>\n",
       "      <td>United Kingdom</td>\n",
       "      <td>2010-12</td>\n",
       "    </tr>\n",
       "    <tr>\n",
       "      <th>3</th>\n",
       "      <td>17850</td>\n",
       "      <td>536365</td>\n",
       "      <td>20.34</td>\n",
       "      <td>2010-12-01 08:26:00</td>\n",
       "      <td>United Kingdom</td>\n",
       "      <td>2010-12</td>\n",
       "    </tr>\n",
       "    <tr>\n",
       "      <th>4</th>\n",
       "      <td>17850</td>\n",
       "      <td>536365</td>\n",
       "      <td>20.34</td>\n",
       "      <td>2010-12-01 08:26:00</td>\n",
       "      <td>United Kingdom</td>\n",
       "      <td>2010-12</td>\n",
       "    </tr>\n",
       "  </tbody>\n",
       "</table>\n",
       "</div>"
      ],
      "text/plain": [
       "   CustomerID  InvoiceNo  AmountSpent          InvoiceDate         Country  \\\n",
       "0       17850     536365        15.30  2010-12-01 08:26:00  United Kingdom   \n",
       "1       17850     536365        20.34  2010-12-01 08:26:00  United Kingdom   \n",
       "2       17850     536365        22.00  2010-12-01 08:26:00  United Kingdom   \n",
       "3       17850     536365        20.34  2010-12-01 08:26:00  United Kingdom   \n",
       "4       17850     536365        20.34  2010-12-01 08:26:00  United Kingdom   \n",
       "\n",
       "  InvoiceYearMonth  \n",
       "0          2010-12  \n",
       "1          2010-12  \n",
       "2          2010-12  \n",
       "3          2010-12  \n",
       "4          2010-12  "
      ]
     },
     "execution_count": 19,
     "metadata": {},
     "output_type": "execute_result"
    }
   ],
   "source": [
    "# Displaying the first few rows\n",
    "customer_df.head()"
   ]
  },
  {
   "cell_type": "code",
   "execution_count": 20,
   "id": "eeeb43f9-f838-4529-9081-c1a8c6605177",
   "metadata": {},
   "outputs": [],
   "source": [
    "# Getting the total revenue per month per year\n",
    "df_revenue = customer_df.groupby(['InvoiceYearMonth'])[['AmountSpent']].sum()"
   ]
  },
  {
   "cell_type": "code",
   "execution_count": 33,
   "id": "e27ee955-05dd-4c17-b811-b5fc17ae1083",
   "metadata": {},
   "outputs": [
    {
     "data": {
      "text/html": [
       "<div>\n",
       "<style scoped>\n",
       "    .dataframe tbody tr th:only-of-type {\n",
       "        vertical-align: middle;\n",
       "    }\n",
       "\n",
       "    .dataframe tbody tr th {\n",
       "        vertical-align: top;\n",
       "    }\n",
       "\n",
       "    .dataframe thead th {\n",
       "        text-align: right;\n",
       "    }\n",
       "</style>\n",
       "<table border=\"1\" class=\"dataframe\">\n",
       "  <thead>\n",
       "    <tr style=\"text-align: right;\">\n",
       "      <th></th>\n",
       "      <th>AmountSpent</th>\n",
       "    </tr>\n",
       "    <tr>\n",
       "      <th>InvoiceYearMonth</th>\n",
       "      <th></th>\n",
       "    </tr>\n",
       "  </thead>\n",
       "  <tbody>\n",
       "    <tr>\n",
       "      <th>2010-12</th>\n",
       "      <td>590823.760</td>\n",
       "    </tr>\n",
       "    <tr>\n",
       "      <th>2011-01</th>\n",
       "      <td>663815.700</td>\n",
       "    </tr>\n",
       "    <tr>\n",
       "      <th>2011-02</th>\n",
       "      <td>457728.550</td>\n",
       "    </tr>\n",
       "    <tr>\n",
       "      <th>2011-03</th>\n",
       "      <td>611036.910</td>\n",
       "    </tr>\n",
       "    <tr>\n",
       "      <th>2011-04</th>\n",
       "      <td>512352.871</td>\n",
       "    </tr>\n",
       "    <tr>\n",
       "      <th>2011-05</th>\n",
       "      <td>708938.040</td>\n",
       "    </tr>\n",
       "    <tr>\n",
       "      <th>2011-06</th>\n",
       "      <td>714414.220</td>\n",
       "    </tr>\n",
       "    <tr>\n",
       "      <th>2011-07</th>\n",
       "      <td>625939.791</td>\n",
       "    </tr>\n",
       "    <tr>\n",
       "      <th>2011-08</th>\n",
       "      <td>674319.800</td>\n",
       "    </tr>\n",
       "    <tr>\n",
       "      <th>2011-09</th>\n",
       "      <td>974236.392</td>\n",
       "    </tr>\n",
       "    <tr>\n",
       "      <th>2011-10</th>\n",
       "      <td>1104033.990</td>\n",
       "    </tr>\n",
       "    <tr>\n",
       "      <th>2011-11</th>\n",
       "      <td>1191227.020</td>\n",
       "    </tr>\n",
       "    <tr>\n",
       "      <th>2011-12</th>\n",
       "      <td>693879.200</td>\n",
       "    </tr>\n",
       "  </tbody>\n",
       "</table>\n",
       "</div>"
      ],
      "text/plain": [
       "                  AmountSpent\n",
       "InvoiceYearMonth             \n",
       "2010-12            590823.760\n",
       "2011-01            663815.700\n",
       "2011-02            457728.550\n",
       "2011-03            611036.910\n",
       "2011-04            512352.871\n",
       "2011-05            708938.040\n",
       "2011-06            714414.220\n",
       "2011-07            625939.791\n",
       "2011-08            674319.800\n",
       "2011-09            974236.392\n",
       "2011-10           1104033.990\n",
       "2011-11           1191227.020\n",
       "2011-12            693879.200"
      ]
     },
     "execution_count": 33,
     "metadata": {},
     "output_type": "execute_result"
    }
   ],
   "source": [
    "# Displaying the first few rows\n",
    "df_revenue"
   ]
  },
  {
   "cell_type": "code",
   "execution_count": 24,
   "id": "a7c74662-0980-4dac-add1-0c38e134a53d",
   "metadata": {},
   "outputs": [
    {
     "data": {
      "image/png": "[encoded data removed]",
      "text/plain": [
       "<Figure size 1296x432 with 1 Axes>"
      ]
     },
     "metadata": {
      "needs_background": "light"
     },
     "output_type": "display_data"
    }
   ],
   "source": [
    "# plotting a line plot\n",
    "fig, ax = plt.subplots(figsize=(18, 6))\n",
    "\n",
    "df_revenue.plot(kind='line', ax=ax)\n",
    "\n",
    "# Disable scientific notation on the y-axis\n",
    "ax.get_yaxis().get_major_formatter().set_scientific(False)\n",
    "\n",
    "plt.ylabel('Revenue')\n",
    "\n",
    "# Display the plot\n",
    "plt.show()\n"
   ]
  },
  {
   "cell_type": "markdown",
   "id": "a7bea74b-a9a1-4ff7-bb3c-c366081f89f2",
   "metadata": {},
   "source": [
    "##### From the line graph, there is a significant drop of sales in December, 2011. What could cause this?"
   ]
  },
  {
   "cell_type": "code",
   "execution_count": 25,
   "id": "2011e5d6-da0d-495a-b277-a271b589f137",
   "metadata": {},
   "outputs": [
    {
     "data": {
      "text/plain": [
       "'2011-12-09 12:50:00'"
      ]
     },
     "execution_count": 25,
     "metadata": {},
     "output_type": "execute_result"
    }
   ],
   "source": [
    "# Exploring the data further. Checking for the last date data was collected \n",
    "customer_df['InvoiceDate'].max()"
   ]
  },
  {
   "cell_type": "markdown",
   "id": "f4ac3c4d-eb88-4962-8c81-3d2191aedd91",
   "metadata": {},
   "source": [
    "##### Now we can see that the significant drop was caused by early collection of data in December"
   ]
  },
  {
   "cell_type": "markdown",
   "id": "05ffc143-53e9-4cf5-aca1-cfa2d0886c05",
   "metadata": {},
   "source": [
    "##### Finding out how many monthly active customer were present in each month\n"
   ]
  },
  {
   "cell_type": "code",
   "execution_count": 26,
   "id": "2297fdbc-e176-4e9f-ae46-278f82916c5d",
   "metadata": {},
   "outputs": [],
   "source": [
    "# Creating monthly active customers\n",
    "df_monthly_active = customer_df.groupby(['InvoiceYearMonth'])[['CustomerID']].nunique()"
   ]
  },
  {
   "cell_type": "code",
   "execution_count": 38,
   "id": "a4d9bb1f-e1e1-43bb-b898-22066aba4db8",
   "metadata": {},
   "outputs": [],
   "source": [
    "# Renaming the column name\n",
    "df_monthly_active.columns = ['No_of_Unique_Customers']"
   ]
  },
  {
   "cell_type": "code",
   "execution_count": 39,
   "id": "31d1ce6a-a4ac-4439-be36-697c6fe8fda4",
   "metadata": {},
   "outputs": [
    {
     "data": {
      "text/html": [
       "<div>\n",
       "<style scoped>\n",
       "    .dataframe tbody tr th:only-of-type {\n",
       "        vertical-align: middle;\n",
       "    }\n",
       "\n",
       "    .dataframe tbody tr th {\n",
       "        vertical-align: top;\n",
       "    }\n",
       "\n",
       "    .dataframe thead th {\n",
       "        text-align: right;\n",
       "    }\n",
       "</style>\n",
       "<table border=\"1\" class=\"dataframe\">\n",
       "  <thead>\n",
       "    <tr style=\"text-align: right;\">\n",
       "      <th></th>\n",
       "      <th>No_of_Unique_Customers</th>\n",
       "    </tr>\n",
       "    <tr>\n",
       "      <th>InvoiceYearMonth</th>\n",
       "      <th></th>\n",
       "    </tr>\n",
       "  </thead>\n",
       "  <tbody>\n",
       "    <tr>\n",
       "      <th>2010-12</th>\n",
       "      <td>948</td>\n",
       "    </tr>\n",
       "    <tr>\n",
       "      <th>2011-01</th>\n",
       "      <td>783</td>\n",
       "    </tr>\n",
       "    <tr>\n",
       "      <th>2011-02</th>\n",
       "      <td>798</td>\n",
       "    </tr>\n",
       "    <tr>\n",
       "      <th>2011-03</th>\n",
       "      <td>1020</td>\n",
       "    </tr>\n",
       "    <tr>\n",
       "      <th>2011-04</th>\n",
       "      <td>899</td>\n",
       "    </tr>\n",
       "    <tr>\n",
       "      <th>2011-05</th>\n",
       "      <td>1079</td>\n",
       "    </tr>\n",
       "    <tr>\n",
       "      <th>2011-06</th>\n",
       "      <td>1051</td>\n",
       "    </tr>\n",
       "    <tr>\n",
       "      <th>2011-07</th>\n",
       "      <td>993</td>\n",
       "    </tr>\n",
       "    <tr>\n",
       "      <th>2011-08</th>\n",
       "      <td>980</td>\n",
       "    </tr>\n",
       "    <tr>\n",
       "      <th>2011-09</th>\n",
       "      <td>1302</td>\n",
       "    </tr>\n",
       "    <tr>\n",
       "      <th>2011-10</th>\n",
       "      <td>1425</td>\n",
       "    </tr>\n",
       "    <tr>\n",
       "      <th>2011-11</th>\n",
       "      <td>1711</td>\n",
       "    </tr>\n",
       "    <tr>\n",
       "      <th>2011-12</th>\n",
       "      <td>686</td>\n",
       "    </tr>\n",
       "  </tbody>\n",
       "</table>\n",
       "</div>"
      ],
      "text/plain": [
       "                  No_of_Unique_Customers\n",
       "InvoiceYearMonth                        \n",
       "2010-12                              948\n",
       "2011-01                              783\n",
       "2011-02                              798\n",
       "2011-03                             1020\n",
       "2011-04                              899\n",
       "2011-05                             1079\n",
       "2011-06                             1051\n",
       "2011-07                              993\n",
       "2011-08                              980\n",
       "2011-09                             1302\n",
       "2011-10                             1425\n",
       "2011-11                             1711\n",
       "2011-12                              686"
      ]
     },
     "execution_count": 39,
     "metadata": {},
     "output_type": "execute_result"
    }
   ],
   "source": [
    "# Displaying the rows\n",
    "df_monthly_active"
   ]
  },
  {
   "cell_type": "code",
   "execution_count": 40,
   "id": "1a19f3b6-b170-4911-907a-105e258b46e0",
   "metadata": {},
   "outputs": [
    {
     "data": {
      "image/png": "[encoded data removed]",
      "text/plain": [
       "<Figure size 1296x432 with 1 Axes>"
      ]
     },
     "metadata": {
      "needs_background": "light"
     },
     "output_type": "display_data"
    }
   ],
   "source": [
    "# Plotting a bar plot\n",
    "df_monthly_active.plot(kind='bar', figsize = (18, 6))\n",
    "plt.ylabel('No of Unique Customers')\n",
    "plt.show()"
   ]
  },
  {
   "cell_type": "markdown",
   "id": "d417fc07-b608-4572-b597-874da5bbee69",
   "metadata": {},
   "source": [
    "##### Here, the growth of active customers per month follows a similar trend as the growth in total revenue per month. Hence, it can be suggested that the growth of active customers may be the reason behind the growth in total revenue generated per month"
   ]
  },
  {
   "cell_type": "markdown",
   "id": "aa24ebd3-cf1e-4895-aefa-682a3899a35a",
   "metadata": {},
   "source": [
    "##### Checking the correlation between the growth of active customers per month and total revenue per month"
   ]
  },
  {
   "cell_type": "code",
   "execution_count": 41,
   "id": "79e90c00-d8e7-4677-acfb-e3214436dd65",
   "metadata": {},
   "outputs": [
    {
     "name": "stdout",
     "output_type": "stream",
     "text": [
      "Correlation between AmountSpent and No of Unique Customers: 0.8906468235893426\n"
     ]
    }
   ],
   "source": [
    "# Merge the dataframes based on the common 'InvoiceYearMonth' column\n",
    "merged_df = pd.merge(df_revenue, df_monthly_active, on='InvoiceYearMonth')\n",
    "\n",
    "# Calculate the correlation coefficient between AmountSpent and No of Unique Customers\n",
    "correlation = merged_df['AmountSpent'].corr(merged_df['No_of_Unique_Customers'])\n",
    "\n",
    "print(\"Correlation between AmountSpent and No of Unique Customers:\", correlation)"
   ]
  },
  {
   "cell_type": "markdown",
   "id": "5a9d1f2b-ade2-47ce-bcfc-234ad2ff5957",
   "metadata": {},
   "source": [
    "##### There is a strong positive correlation (r = 0.89) between the growth of active customers per month and the growth in total revenue per month. This suggests that increasing active customer base significantly contributes to the observed monthly revenue growth."
   ]
  },
  {
   "cell_type": "markdown",
   "id": "d6483656-7626-4903-83d5-d11c9058b44e",
   "metadata": {},
   "source": [
    "##### Checking the impact of customer growth on revenue using regression analysis"
   ]
  },
  {
   "cell_type": "code",
   "execution_count": 42,
   "id": "3fdd4611-8193-4ded-b18a-3932644eee77",
   "metadata": {},
   "outputs": [
    {
     "data": {
      "text/html": [
       "<div>\n",
       "<style scoped>\n",
       "    .dataframe tbody tr th:only-of-type {\n",
       "        vertical-align: middle;\n",
       "    }\n",
       "\n",
       "    .dataframe tbody tr th {\n",
       "        vertical-align: top;\n",
       "    }\n",
       "\n",
       "    .dataframe thead th {\n",
       "        text-align: right;\n",
       "    }\n",
       "</style>\n",
       "<table border=\"1\" class=\"dataframe\">\n",
       "  <thead>\n",
       "    <tr style=\"text-align: right;\">\n",
       "      <th></th>\n",
       "      <th>AmountSpent</th>\n",
       "      <th>No_of_Unique_Customers</th>\n",
       "    </tr>\n",
       "    <tr>\n",
       "      <th>InvoiceYearMonth</th>\n",
       "      <th></th>\n",
       "      <th></th>\n",
       "    </tr>\n",
       "  </thead>\n",
       "  <tbody>\n",
       "    <tr>\n",
       "      <th>2010-12</th>\n",
       "      <td>590823.760</td>\n",
       "      <td>948</td>\n",
       "    </tr>\n",
       "    <tr>\n",
       "      <th>2011-01</th>\n",
       "      <td>663815.700</td>\n",
       "      <td>783</td>\n",
       "    </tr>\n",
       "    <tr>\n",
       "      <th>2011-02</th>\n",
       "      <td>457728.550</td>\n",
       "      <td>798</td>\n",
       "    </tr>\n",
       "    <tr>\n",
       "      <th>2011-03</th>\n",
       "      <td>611036.910</td>\n",
       "      <td>1020</td>\n",
       "    </tr>\n",
       "    <tr>\n",
       "      <th>2011-04</th>\n",
       "      <td>512352.871</td>\n",
       "      <td>899</td>\n",
       "    </tr>\n",
       "  </tbody>\n",
       "</table>\n",
       "</div>"
      ],
      "text/plain": [
       "                  AmountSpent  No_of_Unique_Customers\n",
       "InvoiceYearMonth                                     \n",
       "2010-12            590823.760                     948\n",
       "2011-01            663815.700                     783\n",
       "2011-02            457728.550                     798\n",
       "2011-03            611036.910                    1020\n",
       "2011-04            512352.871                     899"
      ]
     },
     "execution_count": 42,
     "metadata": {},
     "output_type": "execute_result"
    }
   ],
   "source": [
    "# import statsmodels.formula.api as smf\n",
    "\n",
    "merged_df.head()"
   ]
  },
  {
   "cell_type": "code",
   "execution_count": null,
   "id": "5adc0f01-7cd3-4c89-afe3-fc1159477b5b",
   "metadata": {},
   "outputs": [],
   "source": [
    "merged_df.columns"
   ]
  },
  {
   "cell_type": "code",
   "execution_count": 43,
   "id": "30a4d693-ae4e-40c3-a976-c3eb839662a1",
   "metadata": {},
   "outputs": [
    {
     "name": "stdout",
     "output_type": "stream",
     "text": [
      "                            OLS Regression Results                            \n",
      "==============================================================================\n",
      "Dep. Variable:            AmountSpent   R-squared:                       0.793\n",
      "Model:                            OLS   Adj. R-squared:                  0.774\n",
      "Method:                 Least Squares   F-statistic:                     42.20\n",
      "Date:                Tue, 16 Jan 2024   Prob (F-statistic):           4.45e-05\n",
      "Time:                        18:57:43   Log-Likelihood:                -167.67\n",
      "No. Observations:                  13   AIC:                             339.3\n",
      "Df Residuals:                      11   BIC:                             340.5\n",
      "Df Model:                           1                                         \n",
      "Covariance Type:            nonrobust                                         \n",
      "==========================================================================================\n",
      "                             coef    std err          t      P>|t|      [0.025      0.975]\n",
      "------------------------------------------------------------------------------------------\n",
      "Intercept              -3729.2396   1.17e+05     -0.032      0.975   -2.61e+05    2.54e+05\n",
      "No_of_Unique_Customers   699.9069    107.736      6.497      0.000     462.782     937.031\n",
      "==============================================================================\n",
      "Omnibus:                        2.431   Durbin-Watson:                   1.338\n",
      "Prob(Omnibus):                  0.296   Jarque-Bera (JB):                1.519\n",
      "Skew:                           0.818   Prob(JB):                        0.468\n",
      "Kurtosis:                       2.645   Cond. No.                     4.36e+03\n",
      "==============================================================================\n",
      "\n",
      "Notes:\n",
      "[1] Standard Errors assume that the covariance matrix of the errors is correctly specified.\n",
      "[2] The condition number is large, 4.36e+03. This might indicate that there are\n",
      "strong multicollinearity or other numerical problems.\n"
     ]
    },
    {
     "name": "stderr",
     "output_type": "stream",
     "text": [
      "C:\\Users\\DAYO\\anaconda3\\lib\\site-packages\\scipy\\stats\\stats.py:1541: UserWarning:\n",
      "\n",
      "kurtosistest only valid for n>=20 ... continuing anyway, n=13\n",
      "\n"
     ]
    }
   ],
   "source": [
    "# Define the regression model\n",
    "model = smf.ols(\"AmountSpent ~ No_of_Unique_Customers\", data=merged_df)\n",
    "\n",
    "# Fit the model to the data\n",
    "results = model.fit()\n",
    "\n",
    "# Print the model summary\n",
    "print(results.summary())\n",
    "\n"
   ]
  },
  {
   "cell_type": "code",
   "execution_count": 44,
   "id": "b758a0a7-fd0f-4029-bc7a-fdc1432b94b5",
   "metadata": {},
   "outputs": [
    {
     "name": "stdout",
     "output_type": "stream",
     "text": [
      "Estimated impact of one additional customer on revenue: 699.9068635569286\n"
     ]
    }
   ],
   "source": [
    "# Extract the coefficient of 'No of Unique Customers'\n",
    "customer_impact = results.params[\"No_of_Unique_Customers\"]\n",
    "\n",
    "print(\"Estimated impact of one additional customer on revenue:\", customer_impact)"
   ]
  },
  {
   "cell_type": "markdown",
   "id": "df9c2bb2-4b28-4b48-afd4-278e1ce78d82",
   "metadata": {},
   "source": [
    "##### This regression analysis provides a valuable statistical insight into the potential impact of customer acquisition on your revenue"
   ]
  },
  {
   "cell_type": "markdown",
   "id": "d76cc6fe-53b9-46e9-a4d5-54854407b481",
   "metadata": {},
   "source": [
    "#### 3. Finding Recency, Frequency, and Monetary Value of Customers (RFM Analysis)"
   ]
  },
  {
   "cell_type": "markdown",
   "id": "f1d401b7-210f-43cb-aeac-4d24b2c9244a",
   "metadata": {},
   "source": [
    "##### Recency: When did each customer make their last purchase?\n",
    "##### Frequency: How many times did each customer make a purchase?\n",
    "##### Monetary Value: How much did each unique customer spend in total?"
   ]
  },
  {
   "cell_type": "code",
   "execution_count": 2,
   "id": "ba1dfdc8-c72e-4490-8b5c-b37a157b933c",
   "metadata": {},
   "outputs": [],
   "source": [
    "import pandas as pd\n",
    "import matplotlib.pyplot as plt\n",
    "\n",
    "%matplotlib inline"
   ]
  },
  {
   "cell_type": "code",
   "execution_count": 3,
   "id": "60b93f94-26da-47fb-b0c1-53b983c064e8",
   "metadata": {},
   "outputs": [],
   "source": [
    "# Read the customer_dataset as pandas dataframe\n",
    "customer_df = pd.read_csv('data/customer_dataset.csv')"
   ]
  },
  {
   "cell_type": "code",
   "execution_count": 4,
   "id": "ed90b61c-dc15-4770-9681-e27891b490dc",
   "metadata": {},
   "outputs": [
    {
     "data": {
      "text/html": [
       "<div>\n",
       "<style scoped>\n",
       "    .dataframe tbody tr th:only-of-type {\n",
       "        vertical-align: middle;\n",
       "    }\n",
       "\n",
       "    .dataframe tbody tr th {\n",
       "        vertical-align: top;\n",
       "    }\n",
       "\n",
       "    .dataframe thead th {\n",
       "        text-align: right;\n",
       "    }\n",
       "</style>\n",
       "<table border=\"1\" class=\"dataframe\">\n",
       "  <thead>\n",
       "    <tr style=\"text-align: right;\">\n",
       "      <th></th>\n",
       "      <th>CustomerID</th>\n",
       "      <th>InvoiceNo</th>\n",
       "      <th>AmountSpent</th>\n",
       "      <th>InvoiceDate</th>\n",
       "      <th>Country</th>\n",
       "    </tr>\n",
       "  </thead>\n",
       "  <tbody>\n",
       "    <tr>\n",
       "      <th>0</th>\n",
       "      <td>17850</td>\n",
       "      <td>536365</td>\n",
       "      <td>15.30</td>\n",
       "      <td>2010-12-01 08:26:00</td>\n",
       "      <td>United Kingdom</td>\n",
       "    </tr>\n",
       "    <tr>\n",
       "      <th>1</th>\n",
       "      <td>17850</td>\n",
       "      <td>536365</td>\n",
       "      <td>20.34</td>\n",
       "      <td>2010-12-01 08:26:00</td>\n",
       "      <td>United Kingdom</td>\n",
       "    </tr>\n",
       "    <tr>\n",
       "      <th>2</th>\n",
       "      <td>17850</td>\n",
       "      <td>536365</td>\n",
       "      <td>22.00</td>\n",
       "      <td>2010-12-01 08:26:00</td>\n",
       "      <td>United Kingdom</td>\n",
       "    </tr>\n",
       "    <tr>\n",
       "      <th>3</th>\n",
       "      <td>17850</td>\n",
       "      <td>536365</td>\n",
       "      <td>20.34</td>\n",
       "      <td>2010-12-01 08:26:00</td>\n",
       "      <td>United Kingdom</td>\n",
       "    </tr>\n",
       "    <tr>\n",
       "      <th>4</th>\n",
       "      <td>17850</td>\n",
       "      <td>536365</td>\n",
       "      <td>20.34</td>\n",
       "      <td>2010-12-01 08:26:00</td>\n",
       "      <td>United Kingdom</td>\n",
       "    </tr>\n",
       "  </tbody>\n",
       "</table>\n",
       "</div>"
      ],
      "text/plain": [
       "   CustomerID  InvoiceNo  AmountSpent          InvoiceDate         Country\n",
       "0       17850     536365        15.30  2010-12-01 08:26:00  United Kingdom\n",
       "1       17850     536365        20.34  2010-12-01 08:26:00  United Kingdom\n",
       "2       17850     536365        22.00  2010-12-01 08:26:00  United Kingdom\n",
       "3       17850     536365        20.34  2010-12-01 08:26:00  United Kingdom\n",
       "4       17850     536365        20.34  2010-12-01 08:26:00  United Kingdom"
      ]
     },
     "execution_count": 4,
     "metadata": {},
     "output_type": "execute_result"
    }
   ],
   "source": [
    "# Displaying the first few rows\n",
    "customer_df.head()"
   ]
  },
  {
   "cell_type": "code",
   "execution_count": 6,
   "id": "12178e76-3b2b-4696-bf64-de14492437ac",
   "metadata": {},
   "outputs": [
    {
     "data": {
      "text/plain": [
       "(406828, 5)"
      ]
     },
     "execution_count": 6,
     "metadata": {},
     "output_type": "execute_result"
    }
   ],
   "source": [
    "# printing the shape of the dataframe\n",
    "customer_df.shape"
   ]
  },
  {
   "cell_type": "markdown",
   "id": "fc5ea7c1-f87b-4550-a69e-5bcf476950c0",
   "metadata": {},
   "source": [
    "#### Finding Recency of Customers"
   ]
  },
  {
   "cell_type": "markdown",
   "id": "44ac00f6-c280-4aa7-be21-ee0abd6b9760",
   "metadata": {},
   "source": [
    "##### The first thing to do is to answer the following question - When did each customer make their last purchase? (Recency)"
   ]
  },
  {
   "cell_type": "code",
   "execution_count": 7,
   "id": "9ad9e76a-cea1-4aa7-bf67-c82113da1677",
   "metadata": {},
   "outputs": [],
   "source": [
    "# Sorting the dataframe based on the InvoiceDate column\n",
    "customer_df.sort_values('InvoiceDate', inplace=True)"
   ]
  },
  {
   "cell_type": "markdown",
   "id": "6d80a343-c615-4785-a49f-5ca76cd26d6a",
   "metadata": {},
   "source": [
    "##### Now, only keeping the last row of CustomerID data by dropping all rows containing similar CustomerID except the last"
   ]
  },
  {
   "cell_type": "code",
   "execution_count": 10,
   "id": "16527e29-8323-4a43-aee2-f0054b541fd9",
   "metadata": {},
   "outputs": [],
   "source": [
    "user_df = customer_df.drop_duplicates('CustomerID', keep='last').reset_index(drop=True)"
   ]
  },
  {
   "cell_type": "code",
   "execution_count": 11,
   "id": "9f919ca6-74fc-4883-afe4-9a9c65a8bcc7",
   "metadata": {},
   "outputs": [
    {
     "data": {
      "text/html": [
       "<div>\n",
       "<style scoped>\n",
       "    .dataframe tbody tr th:only-of-type {\n",
       "        vertical-align: middle;\n",
       "    }\n",
       "\n",
       "    .dataframe tbody tr th {\n",
       "        vertical-align: top;\n",
       "    }\n",
       "\n",
       "    .dataframe thead th {\n",
       "        text-align: right;\n",
       "    }\n",
       "</style>\n",
       "<table border=\"1\" class=\"dataframe\">\n",
       "  <thead>\n",
       "    <tr style=\"text-align: right;\">\n",
       "      <th></th>\n",
       "      <th>CustomerID</th>\n",
       "      <th>InvoiceNo</th>\n",
       "      <th>AmountSpent</th>\n",
       "      <th>InvoiceDate</th>\n",
       "      <th>Country</th>\n",
       "    </tr>\n",
       "  </thead>\n",
       "  <tbody>\n",
       "    <tr>\n",
       "      <th>0</th>\n",
       "      <td>18074</td>\n",
       "      <td>536384</td>\n",
       "      <td>102.00</td>\n",
       "      <td>2010-12-01 09:53:00</td>\n",
       "      <td>United Kingdom</td>\n",
       "    </tr>\n",
       "    <tr>\n",
       "      <th>1</th>\n",
       "      <td>13747</td>\n",
       "      <td>536393</td>\n",
       "      <td>79.60</td>\n",
       "      <td>2010-12-01 10:37:00</td>\n",
       "      <td>United Kingdom</td>\n",
       "    </tr>\n",
       "    <tr>\n",
       "      <th>2</th>\n",
       "      <td>12791</td>\n",
       "      <td>536403</td>\n",
       "      <td>15.00</td>\n",
       "      <td>2010-12-01 11:27:00</td>\n",
       "      <td>Netherlands</td>\n",
       "    </tr>\n",
       "    <tr>\n",
       "      <th>3</th>\n",
       "      <td>17908</td>\n",
       "      <td>536409</td>\n",
       "      <td>0.42</td>\n",
       "      <td>2010-12-01 11:45:00</td>\n",
       "      <td>United Kingdom</td>\n",
       "    </tr>\n",
       "    <tr>\n",
       "      <th>4</th>\n",
       "      <td>16583</td>\n",
       "      <td>536420</td>\n",
       "      <td>20.40</td>\n",
       "      <td>2010-12-01 12:03:00</td>\n",
       "      <td>United Kingdom</td>\n",
       "    </tr>\n",
       "  </tbody>\n",
       "</table>\n",
       "</div>"
      ],
      "text/plain": [
       "   CustomerID  InvoiceNo  AmountSpent          InvoiceDate         Country\n",
       "0       18074     536384       102.00  2010-12-01 09:53:00  United Kingdom\n",
       "1       13747     536393        79.60  2010-12-01 10:37:00  United Kingdom\n",
       "2       12791     536403        15.00  2010-12-01 11:27:00     Netherlands\n",
       "3       17908     536409         0.42  2010-12-01 11:45:00  United Kingdom\n",
       "4       16583     536420        20.40  2010-12-01 12:03:00  United Kingdom"
      ]
     },
     "execution_count": 11,
     "metadata": {},
     "output_type": "execute_result"
    }
   ],
   "source": [
    "# Displaying the first few rows\n",
    "user_df.head()"
   ]
  },
  {
   "cell_type": "code",
   "execution_count": 12,
   "id": "3de3487c-f52a-4871-b799-4da12803b5da",
   "metadata": {},
   "outputs": [],
   "source": [
    "# Finding the recency of each customer in respect to the last date of purchase in the dataset\n",
    "user_df['Recency'] = pd.to_datetime(user_df['InvoiceDate'].max()) - pd.to_datetime(user_df['InvoiceDate'])"
   ]
  },
  {
   "cell_type": "code",
   "execution_count": 13,
   "id": "f8fbbef5-e600-48d0-a471-5478c1c58427",
   "metadata": {},
   "outputs": [
    {
     "data": {
      "text/html": [
       "<div>\n",
       "<style scoped>\n",
       "    .dataframe tbody tr th:only-of-type {\n",
       "        vertical-align: middle;\n",
       "    }\n",
       "\n",
       "    .dataframe tbody tr th {\n",
       "        vertical-align: top;\n",
       "    }\n",
       "\n",
       "    .dataframe thead th {\n",
       "        text-align: right;\n",
       "    }\n",
       "</style>\n",
       "<table border=\"1\" class=\"dataframe\">\n",
       "  <thead>\n",
       "    <tr style=\"text-align: right;\">\n",
       "      <th></th>\n",
       "      <th>CustomerID</th>\n",
       "      <th>InvoiceNo</th>\n",
       "      <th>AmountSpent</th>\n",
       "      <th>InvoiceDate</th>\n",
       "      <th>Country</th>\n",
       "      <th>Recency</th>\n",
       "    </tr>\n",
       "  </thead>\n",
       "  <tbody>\n",
       "    <tr>\n",
       "      <th>0</th>\n",
       "      <td>18074</td>\n",
       "      <td>536384</td>\n",
       "      <td>102.00</td>\n",
       "      <td>2010-12-01 09:53:00</td>\n",
       "      <td>United Kingdom</td>\n",
       "      <td>373 days 02:57:00</td>\n",
       "    </tr>\n",
       "    <tr>\n",
       "      <th>1</th>\n",
       "      <td>13747</td>\n",
       "      <td>536393</td>\n",
       "      <td>79.60</td>\n",
       "      <td>2010-12-01 10:37:00</td>\n",
       "      <td>United Kingdom</td>\n",
       "      <td>373 days 02:13:00</td>\n",
       "    </tr>\n",
       "    <tr>\n",
       "      <th>2</th>\n",
       "      <td>12791</td>\n",
       "      <td>536403</td>\n",
       "      <td>15.00</td>\n",
       "      <td>2010-12-01 11:27:00</td>\n",
       "      <td>Netherlands</td>\n",
       "      <td>373 days 01:23:00</td>\n",
       "    </tr>\n",
       "    <tr>\n",
       "      <th>3</th>\n",
       "      <td>17908</td>\n",
       "      <td>536409</td>\n",
       "      <td>0.42</td>\n",
       "      <td>2010-12-01 11:45:00</td>\n",
       "      <td>United Kingdom</td>\n",
       "      <td>373 days 01:05:00</td>\n",
       "    </tr>\n",
       "    <tr>\n",
       "      <th>4</th>\n",
       "      <td>16583</td>\n",
       "      <td>536420</td>\n",
       "      <td>20.40</td>\n",
       "      <td>2010-12-01 12:03:00</td>\n",
       "      <td>United Kingdom</td>\n",
       "      <td>373 days 00:47:00</td>\n",
       "    </tr>\n",
       "  </tbody>\n",
       "</table>\n",
       "</div>"
      ],
      "text/plain": [
       "   CustomerID  InvoiceNo  AmountSpent          InvoiceDate         Country  \\\n",
       "0       18074     536384       102.00  2010-12-01 09:53:00  United Kingdom   \n",
       "1       13747     536393        79.60  2010-12-01 10:37:00  United Kingdom   \n",
       "2       12791     536403        15.00  2010-12-01 11:27:00     Netherlands   \n",
       "3       17908     536409         0.42  2010-12-01 11:45:00  United Kingdom   \n",
       "4       16583     536420        20.40  2010-12-01 12:03:00  United Kingdom   \n",
       "\n",
       "            Recency  \n",
       "0 373 days 02:57:00  \n",
       "1 373 days 02:13:00  \n",
       "2 373 days 01:23:00  \n",
       "3 373 days 01:05:00  \n",
       "4 373 days 00:47:00  "
      ]
     },
     "execution_count": 13,
     "metadata": {},
     "output_type": "execute_result"
    }
   ],
   "source": [
    "# Displaying the first few rows\n",
    "user_df.head()"
   ]
  },
  {
   "cell_type": "code",
   "execution_count": 14,
   "id": "3cc25689-cd6c-443b-8bd8-53edbe382d80",
   "metadata": {},
   "outputs": [],
   "source": [
    "# Extracting only the day value\n",
    "user_df['Recency'] = user_df['Recency'].dt.days"
   ]
  },
  {
   "cell_type": "code",
   "execution_count": 15,
   "id": "435f230c-4275-45db-84c8-e9fefd5bf337",
   "metadata": {},
   "outputs": [],
   "source": [
    "# Selecting only the customerID and Recency column\n",
    "user_df = user_df[['CustomerID', 'Recency']]"
   ]
  },
  {
   "cell_type": "code",
   "execution_count": 16,
   "id": "75c306ca-7ce1-454b-b38c-1a036a6a42c0",
   "metadata": {},
   "outputs": [
    {
     "data": {
      "text/html": [
       "<div>\n",
       "<style scoped>\n",
       "    .dataframe tbody tr th:only-of-type {\n",
       "        vertical-align: middle;\n",
       "    }\n",
       "\n",
       "    .dataframe tbody tr th {\n",
       "        vertical-align: top;\n",
       "    }\n",
       "\n",
       "    .dataframe thead th {\n",
       "        text-align: right;\n",
       "    }\n",
       "</style>\n",
       "<table border=\"1\" class=\"dataframe\">\n",
       "  <thead>\n",
       "    <tr style=\"text-align: right;\">\n",
       "      <th></th>\n",
       "      <th>CustomerID</th>\n",
       "      <th>Recency</th>\n",
       "    </tr>\n",
       "  </thead>\n",
       "  <tbody>\n",
       "    <tr>\n",
       "      <th>0</th>\n",
       "      <td>18074</td>\n",
       "      <td>373</td>\n",
       "    </tr>\n",
       "    <tr>\n",
       "      <th>1</th>\n",
       "      <td>13747</td>\n",
       "      <td>373</td>\n",
       "    </tr>\n",
       "    <tr>\n",
       "      <th>2</th>\n",
       "      <td>12791</td>\n",
       "      <td>373</td>\n",
       "    </tr>\n",
       "    <tr>\n",
       "      <th>3</th>\n",
       "      <td>17908</td>\n",
       "      <td>373</td>\n",
       "    </tr>\n",
       "    <tr>\n",
       "      <th>4</th>\n",
       "      <td>16583</td>\n",
       "      <td>373</td>\n",
       "    </tr>\n",
       "  </tbody>\n",
       "</table>\n",
       "</div>"
      ],
      "text/plain": [
       "   CustomerID  Recency\n",
       "0       18074      373\n",
       "1       13747      373\n",
       "2       12791      373\n",
       "3       17908      373\n",
       "4       16583      373"
      ]
     },
     "execution_count": 16,
     "metadata": {},
     "output_type": "execute_result"
    }
   ],
   "source": [
    "# Displaying the first few rows\n",
    "user_df.head()"
   ]
  },
  {
   "cell_type": "code",
   "execution_count": 19,
   "id": "e64842f5-17c2-4628-bccb-e08aecd8f45c",
   "metadata": {},
   "outputs": [
    {
     "data": {
      "image/png": "[encoded data removed]",
      "text/plain": [
       "<Figure size 432x288 with 1 Axes>"
      ]
     },
     "metadata": {
      "needs_background": "light"
     },
     "output_type": "display_data"
    }
   ],
   "source": [
    "# Plotting the frequency distribution of all days\n",
    "plt.hist(user_df['Recency'])\n",
    "plt.ylabel('No of Customers')\n",
    "plt.xlabel('Days')\n",
    "plt.show()"
   ]
  },
  {
   "cell_type": "markdown",
   "id": "94a24ab0-005c-4aed-9940-1d9bd2f6af4a",
   "metadata": {},
   "source": [
    "##### It can be seen that most customers have made a purchase within the last 50 days. That is, majority of the customers are active."
   ]
  },
  {
   "cell_type": "markdown",
   "id": "ea14dff8-8d7a-4be5-bee4-358d0ae3a75b",
   "metadata": {},
   "source": [
    "#### Finding Purchase Frequency of Customers"
   ]
  },
  {
   "cell_type": "markdown",
   "id": "7fdf0d88-886b-4c13-9509-e295ad07f3a5",
   "metadata": {},
   "source": [
    "##### Here, let's answer the following question - How many times did each unique customer make a purchase? (Frequency)"
   ]
  },
  {
   "cell_type": "code",
   "execution_count": 21,
   "id": "53ccc412-649e-4125-bd88-9c4afb66e529",
   "metadata": {},
   "outputs": [
    {
     "data": {
      "text/html": [
       "<div>\n",
       "<style scoped>\n",
       "    .dataframe tbody tr th:only-of-type {\n",
       "        vertical-align: middle;\n",
       "    }\n",
       "\n",
       "    .dataframe tbody tr th {\n",
       "        vertical-align: top;\n",
       "    }\n",
       "\n",
       "    .dataframe thead th {\n",
       "        text-align: right;\n",
       "    }\n",
       "</style>\n",
       "<table border=\"1\" class=\"dataframe\">\n",
       "  <thead>\n",
       "    <tr style=\"text-align: right;\">\n",
       "      <th></th>\n",
       "      <th>CustomerID</th>\n",
       "      <th>InvoiceNo</th>\n",
       "      <th>AmountSpent</th>\n",
       "      <th>InvoiceDate</th>\n",
       "      <th>Country</th>\n",
       "    </tr>\n",
       "  </thead>\n",
       "  <tbody>\n",
       "    <tr>\n",
       "      <th>0</th>\n",
       "      <td>17850</td>\n",
       "      <td>536365</td>\n",
       "      <td>15.30</td>\n",
       "      <td>2010-12-01 08:26:00</td>\n",
       "      <td>United Kingdom</td>\n",
       "    </tr>\n",
       "    <tr>\n",
       "      <th>1</th>\n",
       "      <td>17850</td>\n",
       "      <td>536365</td>\n",
       "      <td>20.34</td>\n",
       "      <td>2010-12-01 08:26:00</td>\n",
       "      <td>United Kingdom</td>\n",
       "    </tr>\n",
       "    <tr>\n",
       "      <th>2</th>\n",
       "      <td>17850</td>\n",
       "      <td>536365</td>\n",
       "      <td>22.00</td>\n",
       "      <td>2010-12-01 08:26:00</td>\n",
       "      <td>United Kingdom</td>\n",
       "    </tr>\n",
       "    <tr>\n",
       "      <th>3</th>\n",
       "      <td>17850</td>\n",
       "      <td>536365</td>\n",
       "      <td>20.34</td>\n",
       "      <td>2010-12-01 08:26:00</td>\n",
       "      <td>United Kingdom</td>\n",
       "    </tr>\n",
       "    <tr>\n",
       "      <th>4</th>\n",
       "      <td>17850</td>\n",
       "      <td>536365</td>\n",
       "      <td>20.34</td>\n",
       "      <td>2010-12-01 08:26:00</td>\n",
       "      <td>United Kingdom</td>\n",
       "    </tr>\n",
       "  </tbody>\n",
       "</table>\n",
       "</div>"
      ],
      "text/plain": [
       "   CustomerID  InvoiceNo  AmountSpent          InvoiceDate         Country\n",
       "0       17850     536365        15.30  2010-12-01 08:26:00  United Kingdom\n",
       "1       17850     536365        20.34  2010-12-01 08:26:00  United Kingdom\n",
       "2       17850     536365        22.00  2010-12-01 08:26:00  United Kingdom\n",
       "3       17850     536365        20.34  2010-12-01 08:26:00  United Kingdom\n",
       "4       17850     536365        20.34  2010-12-01 08:26:00  United Kingdom"
      ]
     },
     "execution_count": 21,
     "metadata": {},
     "output_type": "execute_result"
    }
   ],
   "source": [
    "# Displaying the first few rows of customer dataframe\n",
    "customer_df.head()"
   ]
  },
  {
   "cell_type": "markdown",
   "id": "7e6e928f-6436-45cb-92c7-21ba34e61328",
   "metadata": {},
   "source": [
    "##### Counting the number of transaction of each CustomerID gives the number of each customer has made a purchase."
   ]
  },
  {
   "cell_type": "code",
   "execution_count": 23,
   "id": "d42be4bf-56b5-4396-b1d5-5cd48942b665",
   "metadata": {},
   "outputs": [
    {
     "data": {
      "text/html": [
       "<div>\n",
       "<style scoped>\n",
       "    .dataframe tbody tr th:only-of-type {\n",
       "        vertical-align: middle;\n",
       "    }\n",
       "\n",
       "    .dataframe tbody tr th {\n",
       "        vertical-align: top;\n",
       "    }\n",
       "\n",
       "    .dataframe thead th {\n",
       "        text-align: right;\n",
       "    }\n",
       "</style>\n",
       "<table border=\"1\" class=\"dataframe\">\n",
       "  <thead>\n",
       "    <tr style=\"text-align: right;\">\n",
       "      <th></th>\n",
       "      <th>CustomerID</th>\n",
       "      <th>Frequency</th>\n",
       "    </tr>\n",
       "  </thead>\n",
       "  <tbody>\n",
       "    <tr>\n",
       "      <th>0</th>\n",
       "      <td>17841</td>\n",
       "      <td>7983</td>\n",
       "    </tr>\n",
       "    <tr>\n",
       "      <th>1</th>\n",
       "      <td>14911</td>\n",
       "      <td>5903</td>\n",
       "    </tr>\n",
       "    <tr>\n",
       "      <th>2</th>\n",
       "      <td>14096</td>\n",
       "      <td>5128</td>\n",
       "    </tr>\n",
       "    <tr>\n",
       "      <th>3</th>\n",
       "      <td>12748</td>\n",
       "      <td>4642</td>\n",
       "    </tr>\n",
       "    <tr>\n",
       "      <th>4</th>\n",
       "      <td>14606</td>\n",
       "      <td>2782</td>\n",
       "    </tr>\n",
       "  </tbody>\n",
       "</table>\n",
       "</div>"
      ],
      "text/plain": [
       "   CustomerID  Frequency\n",
       "0       17841       7983\n",
       "1       14911       5903\n",
       "2       14096       5128\n",
       "3       12748       4642\n",
       "4       14606       2782"
      ]
     },
     "execution_count": 23,
     "metadata": {},
     "output_type": "execute_result"
    }
   ],
   "source": [
    "# Getting the frequency distribution of each CustomerID\n",
    "df_frequency = customer_df['CustomerID'].value_counts().reset_index()\n",
    "\n",
    "# Renaming the columns\n",
    "df_frequency.columns = ['CustomerID', 'Frequency']\n",
    "\n",
    "# Displaying the first few rows\n",
    "df_frequency.head()"
   ]
  },
  {
   "cell_type": "code",
   "execution_count": 24,
   "id": "aa87ed58-6444-4b6d-9e7a-f2c14115649f",
   "metadata": {},
   "outputs": [],
   "source": [
    "# Merging the df_frequency with user_df based on the common 'CustomerID' column\n",
    "user_df = pd.merge(user_df, df_frequency, on='CustomerID')"
   ]
  },
  {
   "cell_type": "code",
   "execution_count": 25,
   "id": "ee396089-6ca2-405d-a846-e92d54fb8c77",
   "metadata": {},
   "outputs": [
    {
     "data": {
      "text/html": [
       "<div>\n",
       "<style scoped>\n",
       "    .dataframe tbody tr th:only-of-type {\n",
       "        vertical-align: middle;\n",
       "    }\n",
       "\n",
       "    .dataframe tbody tr th {\n",
       "        vertical-align: top;\n",
       "    }\n",
       "\n",
       "    .dataframe thead th {\n",
       "        text-align: right;\n",
       "    }\n",
       "</style>\n",
       "<table border=\"1\" class=\"dataframe\">\n",
       "  <thead>\n",
       "    <tr style=\"text-align: right;\">\n",
       "      <th></th>\n",
       "      <th>CustomerID</th>\n",
       "      <th>Recency</th>\n",
       "      <th>Frequency</th>\n",
       "    </tr>\n",
       "  </thead>\n",
       "  <tbody>\n",
       "    <tr>\n",
       "      <th>0</th>\n",
       "      <td>18074</td>\n",
       "      <td>373</td>\n",
       "      <td>13</td>\n",
       "    </tr>\n",
       "    <tr>\n",
       "      <th>1</th>\n",
       "      <td>13747</td>\n",
       "      <td>373</td>\n",
       "      <td>1</td>\n",
       "    </tr>\n",
       "    <tr>\n",
       "      <th>2</th>\n",
       "      <td>12791</td>\n",
       "      <td>373</td>\n",
       "      <td>2</td>\n",
       "    </tr>\n",
       "    <tr>\n",
       "      <th>3</th>\n",
       "      <td>17908</td>\n",
       "      <td>373</td>\n",
       "      <td>58</td>\n",
       "    </tr>\n",
       "    <tr>\n",
       "      <th>4</th>\n",
       "      <td>16583</td>\n",
       "      <td>373</td>\n",
       "      <td>14</td>\n",
       "    </tr>\n",
       "    <tr>\n",
       "      <th>5</th>\n",
       "      <td>17968</td>\n",
       "      <td>373</td>\n",
       "      <td>85</td>\n",
       "    </tr>\n",
       "    <tr>\n",
       "      <th>6</th>\n",
       "      <td>14729</td>\n",
       "      <td>373</td>\n",
       "      <td>71</td>\n",
       "    </tr>\n",
       "    <tr>\n",
       "      <th>7</th>\n",
       "      <td>14237</td>\n",
       "      <td>372</td>\n",
       "      <td>9</td>\n",
       "    </tr>\n",
       "    <tr>\n",
       "      <th>8</th>\n",
       "      <td>15350</td>\n",
       "      <td>372</td>\n",
       "      <td>5</td>\n",
       "    </tr>\n",
       "    <tr>\n",
       "      <th>9</th>\n",
       "      <td>15165</td>\n",
       "      <td>372</td>\n",
       "      <td>27</td>\n",
       "    </tr>\n",
       "  </tbody>\n",
       "</table>\n",
       "</div>"
      ],
      "text/plain": [
       "   CustomerID  Recency  Frequency\n",
       "0       18074      373         13\n",
       "1       13747      373          1\n",
       "2       12791      373          2\n",
       "3       17908      373         58\n",
       "4       16583      373         14\n",
       "5       17968      373         85\n",
       "6       14729      373         71\n",
       "7       14237      372          9\n",
       "8       15350      372          5\n",
       "9       15165      372         27"
      ]
     },
     "execution_count": 25,
     "metadata": {},
     "output_type": "execute_result"
    }
   ],
   "source": [
    "# Displaying the first few rows\n",
    "user_df.head(10)"
   ]
  },
  {
   "cell_type": "code",
   "execution_count": 29,
   "id": "a8abe8df-d1ed-4bbd-a2d4-a54fa8e5fb78",
   "metadata": {},
   "outputs": [
    {
     "data": {
      "image/png": "[encoded data removed]",
      "text/plain": [
       "<Figure size 432x288 with 1 Axes>"
      ]
     },
     "metadata": {
      "needs_background": "light"
     },
     "output_type": "display_data"
    }
   ],
   "source": [
    "# Plotting the frequency distribution of the frequency\n",
    "plt.hist(user_df['Frequency'], bins=500)\n",
    "plt.ylabel('Frequency')\n",
    "plt.xlabel('No of Customers\\' Transactions')\n",
    "plt.show()"
   ]
  },
  {
   "cell_type": "markdown",
   "id": "fd7f4fe8-e558-4ee4-a611-bfccf1b456e7",
   "metadata": {},
   "source": [
    "##### Since the histogram is not clearly outlining the outliers, let's make a scatter plot"
   ]
  },
  {
   "cell_type": "code",
   "execution_count": 30,
   "id": "ef4e760a-1186-4305-8d2a-4efa31fd5b69",
   "metadata": {},
   "outputs": [
    {
     "data": {
      "text/plain": [
       "<matplotlib.collections.PathCollection at 0x19e5e869460>"
      ]
     },
     "execution_count": 30,
     "metadata": {},
     "output_type": "execute_result"
    },
    {
     "data": {
      "image/png": "[encoded data removed]",
      "text/plain": [
       "<Figure size 432x288 with 1 Axes>"
      ]
     },
     "metadata": {
      "needs_background": "light"
     },
     "output_type": "display_data"
    }
   ],
   "source": [
    "# Plotting the scatter plot\n",
    "plt.scatter(range(user_df.shape[0]), user_df['Frequency'])"
   ]
  },
  {
   "cell_type": "markdown",
   "id": "32c595ff-2bf0-4e43-8e50-3d6b656be51a",
   "metadata": {},
   "source": [
    "##### From the scatter plot, we can see that most unique customers have made purhases between 1-1000 times, and there are also some outlier customer who have purchased items for more that 1000 times"
   ]
  },
  {
   "cell_type": "markdown",
   "id": "a0c5a906-7a61-4596-827d-8e8541f06ca5",
   "metadata": {},
   "source": [
    "#### Finding Monetary Value of Customers"
   ]
  },
  {
   "cell_type": "markdown",
   "id": "b7032049-262f-4d0f-9c98-4a7460f982e2",
   "metadata": {},
   "source": [
    "##### Here, let's answer the following question - How much did each unique customer spend in total? (Monetary Value)"
   ]
  },
  {
   "cell_type": "code",
   "execution_count": 32,
   "id": "ecb39b42-9e17-411a-baa8-7d2bdb934c55",
   "metadata": {},
   "outputs": [
    {
     "data": {
      "text/html": [
       "<div>\n",
       "<style scoped>\n",
       "    .dataframe tbody tr th:only-of-type {\n",
       "        vertical-align: middle;\n",
       "    }\n",
       "\n",
       "    .dataframe tbody tr th {\n",
       "        vertical-align: top;\n",
       "    }\n",
       "\n",
       "    .dataframe thead th {\n",
       "        text-align: right;\n",
       "    }\n",
       "</style>\n",
       "<table border=\"1\" class=\"dataframe\">\n",
       "  <thead>\n",
       "    <tr style=\"text-align: right;\">\n",
       "      <th></th>\n",
       "      <th>CustomerID</th>\n",
       "      <th>InvoiceNo</th>\n",
       "      <th>AmountSpent</th>\n",
       "      <th>InvoiceDate</th>\n",
       "      <th>Country</th>\n",
       "    </tr>\n",
       "  </thead>\n",
       "  <tbody>\n",
       "    <tr>\n",
       "      <th>0</th>\n",
       "      <td>17850</td>\n",
       "      <td>536365</td>\n",
       "      <td>15.30</td>\n",
       "      <td>2010-12-01 08:26:00</td>\n",
       "      <td>United Kingdom</td>\n",
       "    </tr>\n",
       "    <tr>\n",
       "      <th>1</th>\n",
       "      <td>17850</td>\n",
       "      <td>536365</td>\n",
       "      <td>20.34</td>\n",
       "      <td>2010-12-01 08:26:00</td>\n",
       "      <td>United Kingdom</td>\n",
       "    </tr>\n",
       "    <tr>\n",
       "      <th>2</th>\n",
       "      <td>17850</td>\n",
       "      <td>536365</td>\n",
       "      <td>22.00</td>\n",
       "      <td>2010-12-01 08:26:00</td>\n",
       "      <td>United Kingdom</td>\n",
       "    </tr>\n",
       "    <tr>\n",
       "      <th>3</th>\n",
       "      <td>17850</td>\n",
       "      <td>536365</td>\n",
       "      <td>20.34</td>\n",
       "      <td>2010-12-01 08:26:00</td>\n",
       "      <td>United Kingdom</td>\n",
       "    </tr>\n",
       "    <tr>\n",
       "      <th>4</th>\n",
       "      <td>17850</td>\n",
       "      <td>536365</td>\n",
       "      <td>20.34</td>\n",
       "      <td>2010-12-01 08:26:00</td>\n",
       "      <td>United Kingdom</td>\n",
       "    </tr>\n",
       "  </tbody>\n",
       "</table>\n",
       "</div>"
      ],
      "text/plain": [
       "   CustomerID  InvoiceNo  AmountSpent          InvoiceDate         Country\n",
       "0       17850     536365        15.30  2010-12-01 08:26:00  United Kingdom\n",
       "1       17850     536365        20.34  2010-12-01 08:26:00  United Kingdom\n",
       "2       17850     536365        22.00  2010-12-01 08:26:00  United Kingdom\n",
       "3       17850     536365        20.34  2010-12-01 08:26:00  United Kingdom\n",
       "4       17850     536365        20.34  2010-12-01 08:26:00  United Kingdom"
      ]
     },
     "execution_count": 32,
     "metadata": {},
     "output_type": "execute_result"
    }
   ],
   "source": [
    "# Displaying the first few rows of customer's dataframe\n",
    "customer_df.head()"
   ]
  },
  {
   "cell_type": "code",
   "execution_count": 33,
   "id": "43eec23a-3dd6-499c-b0ad-8377e7e89c22",
   "metadata": {},
   "outputs": [],
   "source": [
    "# Getting the total amount spent by each customer\n",
    "df_amount = customer_df.groupby('CustomerID')['AmountSpent'].sum().reset_index()"
   ]
  },
  {
   "cell_type": "code",
   "execution_count": 34,
   "id": "c9166ce1-8b29-40dc-9c2b-830157f05d5f",
   "metadata": {},
   "outputs": [
    {
     "data": {
      "text/html": [
       "<div>\n",
       "<style scoped>\n",
       "    .dataframe tbody tr th:only-of-type {\n",
       "        vertical-align: middle;\n",
       "    }\n",
       "\n",
       "    .dataframe tbody tr th {\n",
       "        vertical-align: top;\n",
       "    }\n",
       "\n",
       "    .dataframe thead th {\n",
       "        text-align: right;\n",
       "    }\n",
       "</style>\n",
       "<table border=\"1\" class=\"dataframe\">\n",
       "  <thead>\n",
       "    <tr style=\"text-align: right;\">\n",
       "      <th></th>\n",
       "      <th>CustomerID</th>\n",
       "      <th>AmountSpent</th>\n",
       "    </tr>\n",
       "  </thead>\n",
       "  <tbody>\n",
       "    <tr>\n",
       "      <th>0</th>\n",
       "      <td>12346</td>\n",
       "      <td>154367.20</td>\n",
       "    </tr>\n",
       "    <tr>\n",
       "      <th>1</th>\n",
       "      <td>12347</td>\n",
       "      <td>4310.00</td>\n",
       "    </tr>\n",
       "    <tr>\n",
       "      <th>2</th>\n",
       "      <td>12348</td>\n",
       "      <td>1797.24</td>\n",
       "    </tr>\n",
       "    <tr>\n",
       "      <th>3</th>\n",
       "      <td>12349</td>\n",
       "      <td>1757.55</td>\n",
       "    </tr>\n",
       "    <tr>\n",
       "      <th>4</th>\n",
       "      <td>12350</td>\n",
       "      <td>334.40</td>\n",
       "    </tr>\n",
       "  </tbody>\n",
       "</table>\n",
       "</div>"
      ],
      "text/plain": [
       "   CustomerID  AmountSpent\n",
       "0       12346    154367.20\n",
       "1       12347      4310.00\n",
       "2       12348      1797.24\n",
       "3       12349      1757.55\n",
       "4       12350       334.40"
      ]
     },
     "execution_count": 34,
     "metadata": {},
     "output_type": "execute_result"
    }
   ],
   "source": [
    "# Displaying the first few rows\n",
    "df_amount.head()"
   ]
  },
  {
   "cell_type": "code",
   "execution_count": 35,
   "id": "893054a2-442f-4215-bc3f-51a49f8050fc",
   "metadata": {},
   "outputs": [
    {
     "data": {
      "text/html": [
       "<div>\n",
       "<style scoped>\n",
       "    .dataframe tbody tr th:only-of-type {\n",
       "        vertical-align: middle;\n",
       "    }\n",
       "\n",
       "    .dataframe tbody tr th {\n",
       "        vertical-align: top;\n",
       "    }\n",
       "\n",
       "    .dataframe thead th {\n",
       "        text-align: right;\n",
       "    }\n",
       "</style>\n",
       "<table border=\"1\" class=\"dataframe\">\n",
       "  <thead>\n",
       "    <tr style=\"text-align: right;\">\n",
       "      <th></th>\n",
       "      <th>CustomerID</th>\n",
       "      <th>Revenue</th>\n",
       "    </tr>\n",
       "  </thead>\n",
       "  <tbody>\n",
       "    <tr>\n",
       "      <th>0</th>\n",
       "      <td>12346</td>\n",
       "      <td>154367.20</td>\n",
       "    </tr>\n",
       "    <tr>\n",
       "      <th>1</th>\n",
       "      <td>12347</td>\n",
       "      <td>4310.00</td>\n",
       "    </tr>\n",
       "    <tr>\n",
       "      <th>2</th>\n",
       "      <td>12348</td>\n",
       "      <td>1797.24</td>\n",
       "    </tr>\n",
       "    <tr>\n",
       "      <th>3</th>\n",
       "      <td>12349</td>\n",
       "      <td>1757.55</td>\n",
       "    </tr>\n",
       "    <tr>\n",
       "      <th>4</th>\n",
       "      <td>12350</td>\n",
       "      <td>334.40</td>\n",
       "    </tr>\n",
       "  </tbody>\n",
       "</table>\n",
       "</div>"
      ],
      "text/plain": [
       "   CustomerID    Revenue\n",
       "0       12346  154367.20\n",
       "1       12347    4310.00\n",
       "2       12348    1797.24\n",
       "3       12349    1757.55\n",
       "4       12350     334.40"
      ]
     },
     "execution_count": 35,
     "metadata": {},
     "output_type": "execute_result"
    }
   ],
   "source": [
    "# Renaming the column name as Revenue\n",
    "df_amount.columns = ['CustomerID', 'Revenue']\n",
    "df_amount.head()"
   ]
  },
  {
   "cell_type": "code",
   "execution_count": 36,
   "id": "99a429f2-cf7f-42a7-a0a3-7154bdac75fe",
   "metadata": {},
   "outputs": [],
   "source": [
    "# Merging the df_amount with user_df based on the common 'CustomerID' column\n",
    "user_df = pd.merge(user_df, df_amount, on='CustomerID')"
   ]
  },
  {
   "cell_type": "code",
   "execution_count": 37,
   "id": "66ef4fb1-eaed-4df1-8722-04b9c4845983",
   "metadata": {},
   "outputs": [
    {
     "data": {
      "text/html": [
       "<div>\n",
       "<style scoped>\n",
       "    .dataframe tbody tr th:only-of-type {\n",
       "        vertical-align: middle;\n",
       "    }\n",
       "\n",
       "    .dataframe tbody tr th {\n",
       "        vertical-align: top;\n",
       "    }\n",
       "\n",
       "    .dataframe thead th {\n",
       "        text-align: right;\n",
       "    }\n",
       "</style>\n",
       "<table border=\"1\" class=\"dataframe\">\n",
       "  <thead>\n",
       "    <tr style=\"text-align: right;\">\n",
       "      <th></th>\n",
       "      <th>CustomerID</th>\n",
       "      <th>Recency</th>\n",
       "      <th>Frequency</th>\n",
       "      <th>Revenue</th>\n",
       "    </tr>\n",
       "  </thead>\n",
       "  <tbody>\n",
       "    <tr>\n",
       "      <th>0</th>\n",
       "      <td>18074</td>\n",
       "      <td>373</td>\n",
       "      <td>13</td>\n",
       "      <td>489.60</td>\n",
       "    </tr>\n",
       "    <tr>\n",
       "      <th>1</th>\n",
       "      <td>13747</td>\n",
       "      <td>373</td>\n",
       "      <td>1</td>\n",
       "      <td>79.60</td>\n",
       "    </tr>\n",
       "    <tr>\n",
       "      <th>2</th>\n",
       "      <td>12791</td>\n",
       "      <td>373</td>\n",
       "      <td>2</td>\n",
       "      <td>192.60</td>\n",
       "    </tr>\n",
       "    <tr>\n",
       "      <th>3</th>\n",
       "      <td>17908</td>\n",
       "      <td>373</td>\n",
       "      <td>58</td>\n",
       "      <td>243.28</td>\n",
       "    </tr>\n",
       "    <tr>\n",
       "      <th>4</th>\n",
       "      <td>16583</td>\n",
       "      <td>373</td>\n",
       "      <td>14</td>\n",
       "      <td>233.45</td>\n",
       "    </tr>\n",
       "  </tbody>\n",
       "</table>\n",
       "</div>"
      ],
      "text/plain": [
       "   CustomerID  Recency  Frequency  Revenue\n",
       "0       18074      373         13   489.60\n",
       "1       13747      373          1    79.60\n",
       "2       12791      373          2   192.60\n",
       "3       17908      373         58   243.28\n",
       "4       16583      373         14   233.45"
      ]
     },
     "execution_count": 37,
     "metadata": {},
     "output_type": "execute_result"
    }
   ],
   "source": [
    "# Displaying the first few rows\n",
    "user_df.head()"
   ]
  },
  {
   "cell_type": "code",
   "execution_count": 39,
   "id": "6ff84dd0-b419-45f3-bff3-f88fd2a85276",
   "metadata": {},
   "outputs": [
    {
     "data": {
      "image/png": "[encoded data removed]",
      "text/plain": [
       "<Figure size 432x288 with 1 Axes>"
      ]
     },
     "metadata": {
      "needs_background": "light"
     },
     "output_type": "display_data"
    }
   ],
   "source": [
    "# Plotting the frequency distribution of the totam amount spent\n",
    "plt.hist(user_df['Revenue'], bins=100)\n",
    "plt.ylabel('Frequency')\n",
    "plt.xlabel('Revenue')\n",
    "plt.show()"
   ]
  },
  {
   "cell_type": "markdown",
   "id": "43a18fc5-003d-4c1f-b800-5cf255262823",
   "metadata": {},
   "source": [
    "##### Since histogram is not clearly outlining the outliers, let's make a scater plot as well"
   ]
  },
  {
   "cell_type": "code",
   "execution_count": 41,
   "id": "75a5d8d2-eea3-41bf-a2cc-f4245f5a71a2",
   "metadata": {},
   "outputs": [
    {
     "data": {
      "image/png": "[encoded data removed]",
      "text/plain": [
       "<Figure size 432x288 with 1 Axes>"
      ]
     },
     "metadata": {
      "needs_background": "light"
     },
     "output_type": "display_data"
    }
   ],
   "source": [
    "# Plotting a scatter plot\n",
    "plt.scatter(range(user_df.shape[0]), user_df['Revenue'])\n",
    "plt.ylabel('Revenue')\n",
    "plt.xlabel('Customers')\n",
    "plt.show()"
   ]
  },
  {
   "cell_type": "markdown",
   "id": "515a29dc-dfab-4a55-91b1-bcfe37681b5b",
   "metadata": {},
   "source": [
    "##### From the scatter plot, it can be seen that most customer have made a purchase within the 50,000, and there are some other customers (outlier cases) that have made purchases over 50,000"
   ]
  },
  {
   "cell_type": "code",
   "execution_count": 42,
   "id": "40fe77dd-72e2-4164-9aad-d408c8c686b6",
   "metadata": {},
   "outputs": [],
   "source": [
    "# Saving the user_df as a new csv file\n",
    "user_df.to_csv('data/user_dataset.csv', header=True, index=False)"
   ]
  },
  {
   "cell_type": "markdown",
   "id": "60c17d6e-51ce-44ea-9dc6-b53f7759a611",
   "metadata": {},
   "source": [
    "##### Analyzing the correlation between the Recency, Frequency and Monetary Value distribution of all the customers using a correlation matrix"
   ]
  },
  {
   "cell_type": "code",
   "execution_count": 44,
   "id": "a8ca612c-961c-4a72-bc5a-c926f4953532",
   "metadata": {},
   "outputs": [
    {
     "data": {
      "text/html": [
       "<div>\n",
       "<style scoped>\n",
       "    .dataframe tbody tr th:only-of-type {\n",
       "        vertical-align: middle;\n",
       "    }\n",
       "\n",
       "    .dataframe tbody tr th {\n",
       "        vertical-align: top;\n",
       "    }\n",
       "\n",
       "    .dataframe thead th {\n",
       "        text-align: right;\n",
       "    }\n",
       "</style>\n",
       "<table border=\"1\" class=\"dataframe\">\n",
       "  <thead>\n",
       "    <tr style=\"text-align: right;\">\n",
       "      <th></th>\n",
       "      <th>CustomerID</th>\n",
       "      <th>Recency</th>\n",
       "      <th>Frequency</th>\n",
       "      <th>Revenue</th>\n",
       "    </tr>\n",
       "  </thead>\n",
       "  <tbody>\n",
       "    <tr>\n",
       "      <th>CustomerID</th>\n",
       "      <td>1.000000</td>\n",
       "      <td>0.013687</td>\n",
       "      <td>-0.002785</td>\n",
       "      <td>-0.013250</td>\n",
       "    </tr>\n",
       "    <tr>\n",
       "      <th>Recency</th>\n",
       "      <td>0.013687</td>\n",
       "      <td>1.000000</td>\n",
       "      <td>-0.206980</td>\n",
       "      <td>-0.105736</td>\n",
       "    </tr>\n",
       "    <tr>\n",
       "      <th>Frequency</th>\n",
       "      <td>-0.002785</td>\n",
       "      <td>-0.206980</td>\n",
       "      <td>1.000000</td>\n",
       "      <td>0.377824</td>\n",
       "    </tr>\n",
       "    <tr>\n",
       "      <th>Revenue</th>\n",
       "      <td>-0.013250</td>\n",
       "      <td>-0.105736</td>\n",
       "      <td>0.377824</td>\n",
       "      <td>1.000000</td>\n",
       "    </tr>\n",
       "  </tbody>\n",
       "</table>\n",
       "</div>"
      ],
      "text/plain": [
       "            CustomerID   Recency  Frequency   Revenue\n",
       "CustomerID    1.000000  0.013687  -0.002785 -0.013250\n",
       "Recency       0.013687  1.000000  -0.206980 -0.105736\n",
       "Frequency    -0.002785 -0.206980   1.000000  0.377824\n",
       "Revenue      -0.013250 -0.105736   0.377824  1.000000"
      ]
     },
     "execution_count": 44,
     "metadata": {},
     "output_type": "execute_result"
    }
   ],
   "source": [
    "# Calculate the correlation matrix\n",
    "correlation_matrix = user_df.corr()\n",
    "\n",
    "# Print the correlation matrix\n",
    "correlation_matrix"
   ]
  },
  {
   "cell_type": "markdown",
   "id": "9b00d209-46ba-485f-a34f-2f8764f9a101",
   "metadata": {},
   "source": [
    "##### Frequency and Revenue have the strongest positive correlation (0.377824), indicating that customers who purchase more frequently tend to spend more overall. This suggests that focusing on strategies to increase purchase frequency could lead to higher revenue.\n",
    "\n",
    "##### Recency has a weak negative correlation with both Frequency (-0.206980) and Revenue (-0.105736). This implies that customers who purchased more recently might be slightly less likely to purchase frequently or spend a lot. However, these correlations are relatively weak, so the impact of recency might not be substantial.\n",
    "\n",
    "##### Further analysis, such as segmentation based on RFM values or exploring customer demographics and preferences, could provide more nuanced insights into customer behavior patterns."
   ]
  },
  {
   "cell_type": "markdown",
   "id": "dcacaa37-fd92-4022-aa0b-57c5fba3a29b",
   "metadata": {},
   "source": [
    "#### 4. Customer Profiling and Segmentation"
   ]
  },
  {
   "cell_type": "code",
   "execution_count": 1,
   "id": "0f87b7ef-4ac0-4acc-8631-bb716de6450c",
   "metadata": {},
   "outputs": [],
   "source": [
    "import pandas as pd\n",
    "import matplotlib.pyplot as plt\n",
    "from sklearn.cluster import KMeans\n",
    "\n",
    "%matplotlib inline"
   ]
  },
  {
   "cell_type": "code",
   "execution_count": 2,
   "id": "96c021b9-5ad4-4fa6-89bf-5cfe7d71d0a7",
   "metadata": {},
   "outputs": [],
   "source": [
    "# Read the user dataset as a pandas dataframe\n",
    "user_df = pd.read_csv('data/user_dataset.csv')"
   ]
  },
  {
   "cell_type": "code",
   "execution_count": 3,
   "id": "c73dbc12-5358-4941-a212-b4fdf34820de",
   "metadata": {},
   "outputs": [
    {
     "data": {
      "text/html": [
       "<div>\n",
       "<style scoped>\n",
       "    .dataframe tbody tr th:only-of-type {\n",
       "        vertical-align: middle;\n",
       "    }\n",
       "\n",
       "    .dataframe tbody tr th {\n",
       "        vertical-align: top;\n",
       "    }\n",
       "\n",
       "    .dataframe thead th {\n",
       "        text-align: right;\n",
       "    }\n",
       "</style>\n",
       "<table border=\"1\" class=\"dataframe\">\n",
       "  <thead>\n",
       "    <tr style=\"text-align: right;\">\n",
       "      <th></th>\n",
       "      <th>CustomerID</th>\n",
       "      <th>Recency</th>\n",
       "      <th>Frequency</th>\n",
       "      <th>Revenue</th>\n",
       "    </tr>\n",
       "  </thead>\n",
       "  <tbody>\n",
       "    <tr>\n",
       "      <th>0</th>\n",
       "      <td>18074</td>\n",
       "      <td>373</td>\n",
       "      <td>13</td>\n",
       "      <td>489.60</td>\n",
       "    </tr>\n",
       "    <tr>\n",
       "      <th>1</th>\n",
       "      <td>13747</td>\n",
       "      <td>373</td>\n",
       "      <td>1</td>\n",
       "      <td>79.60</td>\n",
       "    </tr>\n",
       "    <tr>\n",
       "      <th>2</th>\n",
       "      <td>12791</td>\n",
       "      <td>373</td>\n",
       "      <td>2</td>\n",
       "      <td>192.60</td>\n",
       "    </tr>\n",
       "    <tr>\n",
       "      <th>3</th>\n",
       "      <td>17908</td>\n",
       "      <td>373</td>\n",
       "      <td>58</td>\n",
       "      <td>243.28</td>\n",
       "    </tr>\n",
       "    <tr>\n",
       "      <th>4</th>\n",
       "      <td>16583</td>\n",
       "      <td>373</td>\n",
       "      <td>14</td>\n",
       "      <td>233.45</td>\n",
       "    </tr>\n",
       "  </tbody>\n",
       "</table>\n",
       "</div>"
      ],
      "text/plain": [
       "   CustomerID  Recency  Frequency  Revenue\n",
       "0       18074      373         13   489.60\n",
       "1       13747      373          1    79.60\n",
       "2       12791      373          2   192.60\n",
       "3       17908      373         58   243.28\n",
       "4       16583      373         14   233.45"
      ]
     },
     "execution_count": 3,
     "metadata": {},
     "output_type": "execute_result"
    }
   ],
   "source": [
    "# displaying the first few rows\n",
    "user_df.head()"
   ]
  },
  {
   "cell_type": "code",
   "execution_count": 4,
   "id": "a78e6706-4722-4141-a334-a9618b25bd61",
   "metadata": {},
   "outputs": [
    {
     "data": {
      "text/plain": [
       "(4372, 4)"
      ]
     },
     "execution_count": 4,
     "metadata": {},
     "output_type": "execute_result"
    }
   ],
   "source": [
    "# Printing the shape of the DataFrame\n",
    "user_df.shape"
   ]
  },
  {
   "cell_type": "markdown",
   "id": "a71df240-5771-4075-bc82-fe3fa3780a0a",
   "metadata": {},
   "source": [
    "##### Here, we will initiate the K-Means clustering algorithm with a total number of 4 clusters"
   ]
  },
  {
   "cell_type": "code",
   "execution_count": 5,
   "id": "b4d5f0f1-8d92-4cfd-ac4e-240581331e1d",
   "metadata": {},
   "outputs": [],
   "source": [
    "# Building 4 clusters\n",
    "kmeans = KMeans(n_clusters=4)"
   ]
  },
  {
   "cell_type": "markdown",
   "id": "2f28eeaf-588e-4030-a050-881a4a1d66e9",
   "metadata": {},
   "source": [
    "#### Segmenting Customers based on Recency"
   ]
  },
  {
   "cell_type": "markdown",
   "id": "20afbd71-7e4a-48c7-b4be-8e620931d1c1",
   "metadata": {},
   "source": [
    "##### Fitting the model object into the recency values in our dataframe"
   ]
  },
  {
   "cell_type": "code",
   "execution_count": 6,
   "id": "bcc70bf0-a296-433a-9b2b-4b748b55eefe",
   "metadata": {},
   "outputs": [
    {
     "data": {
      "text/plain": [
       "KMeans(n_clusters=4)"
      ]
     },
     "execution_count": 6,
     "metadata": {},
     "output_type": "execute_result"
    }
   ],
   "source": [
    "# Fitting the model\n",
    "kmeans.fit(user_df[['Recency']])"
   ]
  },
  {
   "cell_type": "markdown",
   "id": "1b0619e9-bfca-451c-8aaa-1de1a6724db2",
   "metadata": {},
   "source": [
    "##### Predicting the value of clusters and saving them as a new column RecencyCLuster in the dataframe"
   ]
  },
  {
   "cell_type": "code",
   "execution_count": 7,
   "id": "cb88d4e6-4fe3-4426-8237-7f46f059ab6f",
   "metadata": {},
   "outputs": [],
   "source": [
    "# Predicting cluster using the fitted model\n",
    "user_df['RecencyCluster'] = kmeans.predict(user_df[['Recency']])"
   ]
  },
  {
   "cell_type": "code",
   "execution_count": 8,
   "id": "b5e685f5-2b0b-43d7-ba72-d26905bfe8f6",
   "metadata": {},
   "outputs": [
    {
     "data": {
      "text/html": [
       "<div>\n",
       "<style scoped>\n",
       "    .dataframe tbody tr th:only-of-type {\n",
       "        vertical-align: middle;\n",
       "    }\n",
       "\n",
       "    .dataframe tbody tr th {\n",
       "        vertical-align: top;\n",
       "    }\n",
       "\n",
       "    .dataframe thead th {\n",
       "        text-align: right;\n",
       "    }\n",
       "</style>\n",
       "<table border=\"1\" class=\"dataframe\">\n",
       "  <thead>\n",
       "    <tr style=\"text-align: right;\">\n",
       "      <th></th>\n",
       "      <th>CustomerID</th>\n",
       "      <th>Recency</th>\n",
       "      <th>Frequency</th>\n",
       "      <th>Revenue</th>\n",
       "      <th>RecencyCluster</th>\n",
       "    </tr>\n",
       "  </thead>\n",
       "  <tbody>\n",
       "    <tr>\n",
       "      <th>0</th>\n",
       "      <td>18074</td>\n",
       "      <td>373</td>\n",
       "      <td>13</td>\n",
       "      <td>489.60</td>\n",
       "      <td>1</td>\n",
       "    </tr>\n",
       "    <tr>\n",
       "      <th>1</th>\n",
       "      <td>13747</td>\n",
       "      <td>373</td>\n",
       "      <td>1</td>\n",
       "      <td>79.60</td>\n",
       "      <td>1</td>\n",
       "    </tr>\n",
       "    <tr>\n",
       "      <th>2</th>\n",
       "      <td>12791</td>\n",
       "      <td>373</td>\n",
       "      <td>2</td>\n",
       "      <td>192.60</td>\n",
       "      <td>1</td>\n",
       "    </tr>\n",
       "    <tr>\n",
       "      <th>3</th>\n",
       "      <td>17908</td>\n",
       "      <td>373</td>\n",
       "      <td>58</td>\n",
       "      <td>243.28</td>\n",
       "      <td>1</td>\n",
       "    </tr>\n",
       "    <tr>\n",
       "      <th>4</th>\n",
       "      <td>16583</td>\n",
       "      <td>373</td>\n",
       "      <td>14</td>\n",
       "      <td>233.45</td>\n",
       "      <td>1</td>\n",
       "    </tr>\n",
       "  </tbody>\n",
       "</table>\n",
       "</div>"
      ],
      "text/plain": [
       "   CustomerID  Recency  Frequency  Revenue  RecencyCluster\n",
       "0       18074      373         13   489.60               1\n",
       "1       13747      373          1    79.60               1\n",
       "2       12791      373          2   192.60               1\n",
       "3       17908      373         58   243.28               1\n",
       "4       16583      373         14   233.45               1"
      ]
     },
     "execution_count": 8,
     "metadata": {},
     "output_type": "execute_result"
    }
   ],
   "source": [
    "# Displaying the first few rows\n",
    "user_df.head()"
   ]
  },
  {
   "cell_type": "markdown",
   "id": "7a3e6db2-25b1-4d01-9a43-afcfa904776d",
   "metadata": {},
   "source": [
    "##### Now, the customers has been segmented based on Recency into 4 different clusters"
   ]
  },
  {
   "cell_type": "markdown",
   "id": "85a4f8a9-50ca-43bc-a41f-21f7625f8642",
   "metadata": {},
   "source": [
    "##### Next, let's see the distribution of data in the 4 clusters"
   ]
  },
  {
   "cell_type": "code",
   "execution_count": 9,
   "id": "8914fe48-a6d7-4fc3-998d-b594e4b916ae",
   "metadata": {},
   "outputs": [
    {
     "data": {
      "text/plain": [
       "<AxesSubplot:xlabel='RecencyCluster'>"
      ]
     },
     "execution_count": 9,
     "metadata": {},
     "output_type": "execute_result"
    },
    {
     "data": {
      "image/png": "[encoded data removed]",
      "text/plain": [
       "<Figure size 432x288 with 1 Axes>"
      ]
     },
     "metadata": {
      "needs_background": "light"
     },
     "output_type": "display_data"
    }
   ],
   "source": [
    "# Plotting the count of data in each cluster\n",
    "user_df['RecencyCluster'].value_counts().plot.bar()"
   ]
  },
  {
   "cell_type": "markdown",
   "id": "2b260319-048f-48df-b9c7-4ee363f31d90",
   "metadata": {},
   "source": [
    "##### The data has been distributed into different clusters namely 0, 1, 2, and 3. However, the K-Means Algorithm does not differentiate the ranking of clusters based on their order. Hence, let's order them based on their mean values"
   ]
  },
  {
   "cell_type": "code",
   "execution_count": 10,
   "id": "ac6e0c19-7821-4d64-b644-978051b20cc1",
   "metadata": {},
   "outputs": [],
   "source": [
    "# Creating a new dataframe by grouping the dataframe based on different cluster values and finding the mean\n",
    "df_new = user_df.groupby(\"RecencyCluster\")[\"Recency\"].mean().reset_index()"
   ]
  },
  {
   "cell_type": "code",
   "execution_count": 11,
   "id": "4eabf0b5-721b-4234-b330-a1dcabc85410",
   "metadata": {},
   "outputs": [
    {
     "data": {
      "text/html": [
       "<div>\n",
       "<style scoped>\n",
       "    .dataframe tbody tr th:only-of-type {\n",
       "        vertical-align: middle;\n",
       "    }\n",
       "\n",
       "    .dataframe tbody tr th {\n",
       "        vertical-align: top;\n",
       "    }\n",
       "\n",
       "    .dataframe thead th {\n",
       "        text-align: right;\n",
       "    }\n",
       "</style>\n",
       "<table border=\"1\" class=\"dataframe\">\n",
       "  <thead>\n",
       "    <tr style=\"text-align: right;\">\n",
       "      <th></th>\n",
       "      <th>RecencyCluster</th>\n",
       "      <th>Recency</th>\n",
       "    </tr>\n",
       "  </thead>\n",
       "  <tbody>\n",
       "    <tr>\n",
       "      <th>0</th>\n",
       "      <td>0</td>\n",
       "      <td>17.397311</td>\n",
       "    </tr>\n",
       "    <tr>\n",
       "      <th>1</th>\n",
       "      <td>1</td>\n",
       "      <td>305.363806</td>\n",
       "    </tr>\n",
       "    <tr>\n",
       "      <th>2</th>\n",
       "      <td>2</td>\n",
       "      <td>184.598387</td>\n",
       "    </tr>\n",
       "    <tr>\n",
       "      <th>3</th>\n",
       "      <td>3</td>\n",
       "      <td>77.814920</td>\n",
       "    </tr>\n",
       "  </tbody>\n",
       "</table>\n",
       "</div>"
      ],
      "text/plain": [
       "   RecencyCluster     Recency\n",
       "0               0   17.397311\n",
       "1               1  305.363806\n",
       "2               2  184.598387\n",
       "3               3   77.814920"
      ]
     },
     "execution_count": 11,
     "metadata": {},
     "output_type": "execute_result"
    }
   ],
   "source": [
    "# Displaying the new dataframe\n",
    "df_new"
   ]
  },
  {
   "cell_type": "code",
   "execution_count": 12,
   "id": "f04ff8b4-56f3-494f-a61f-7254b9eaf938",
   "metadata": {},
   "outputs": [
    {
     "data": {
      "text/html": [
       "<div>\n",
       "<style scoped>\n",
       "    .dataframe tbody tr th:only-of-type {\n",
       "        vertical-align: middle;\n",
       "    }\n",
       "\n",
       "    .dataframe tbody tr th {\n",
       "        vertical-align: top;\n",
       "    }\n",
       "\n",
       "    .dataframe thead th {\n",
       "        text-align: right;\n",
       "    }\n",
       "</style>\n",
       "<table border=\"1\" class=\"dataframe\">\n",
       "  <thead>\n",
       "    <tr style=\"text-align: right;\">\n",
       "      <th></th>\n",
       "      <th>RecencyCluster</th>\n",
       "      <th>RecencyMean</th>\n",
       "    </tr>\n",
       "  </thead>\n",
       "  <tbody>\n",
       "    <tr>\n",
       "      <th>0</th>\n",
       "      <td>0</td>\n",
       "      <td>17.397311</td>\n",
       "    </tr>\n",
       "    <tr>\n",
       "      <th>1</th>\n",
       "      <td>1</td>\n",
       "      <td>305.363806</td>\n",
       "    </tr>\n",
       "    <tr>\n",
       "      <th>2</th>\n",
       "      <td>2</td>\n",
       "      <td>184.598387</td>\n",
       "    </tr>\n",
       "    <tr>\n",
       "      <th>3</th>\n",
       "      <td>3</td>\n",
       "      <td>77.814920</td>\n",
       "    </tr>\n",
       "  </tbody>\n",
       "</table>\n",
       "</div>"
      ],
      "text/plain": [
       "   RecencyCluster  RecencyMean\n",
       "0               0    17.397311\n",
       "1               1   305.363806\n",
       "2               2   184.598387\n",
       "3               3    77.814920"
      ]
     },
     "execution_count": 12,
     "metadata": {},
     "output_type": "execute_result"
    }
   ],
   "source": [
    "# Renaming the Recency column name to RecencyMean\n",
    "df_new.rename(columns={'Recency': 'RecencyMean'}, inplace=True)\n",
    "df_new"
   ]
  },
  {
   "cell_type": "code",
   "execution_count": 13,
   "id": "dd51e0e3-9fcc-4b44-8c97-d361ff71d52d",
   "metadata": {},
   "outputs": [
    {
     "data": {
      "text/html": [
       "<div>\n",
       "<style scoped>\n",
       "    .dataframe tbody tr th:only-of-type {\n",
       "        vertical-align: middle;\n",
       "    }\n",
       "\n",
       "    .dataframe tbody tr th {\n",
       "        vertical-align: top;\n",
       "    }\n",
       "\n",
       "    .dataframe thead th {\n",
       "        text-align: right;\n",
       "    }\n",
       "</style>\n",
       "<table border=\"1\" class=\"dataframe\">\n",
       "  <thead>\n",
       "    <tr style=\"text-align: right;\">\n",
       "      <th></th>\n",
       "      <th>RecencyCluster</th>\n",
       "      <th>RecencyMean</th>\n",
       "    </tr>\n",
       "  </thead>\n",
       "  <tbody>\n",
       "    <tr>\n",
       "      <th>0</th>\n",
       "      <td>1</td>\n",
       "      <td>305.363806</td>\n",
       "    </tr>\n",
       "    <tr>\n",
       "      <th>1</th>\n",
       "      <td>2</td>\n",
       "      <td>184.598387</td>\n",
       "    </tr>\n",
       "    <tr>\n",
       "      <th>2</th>\n",
       "      <td>3</td>\n",
       "      <td>77.814920</td>\n",
       "    </tr>\n",
       "    <tr>\n",
       "      <th>3</th>\n",
       "      <td>0</td>\n",
       "      <td>17.397311</td>\n",
       "    </tr>\n",
       "  </tbody>\n",
       "</table>\n",
       "</div>"
      ],
      "text/plain": [
       "   RecencyCluster  RecencyMean\n",
       "0               1   305.363806\n",
       "1               2   184.598387\n",
       "2               3    77.814920\n",
       "3               0    17.397311"
      ]
     },
     "execution_count": 13,
     "metadata": {},
     "output_type": "execute_result"
    }
   ],
   "source": [
    "# Sorting the values\n",
    "df_new = df_new.sort_values(by=\"RecencyMean\", ascending=False).reset_index(drop=True)\n",
    "df_new"
   ]
  },
  {
   "cell_type": "markdown",
   "id": "eac4ab37-9b23-4449-b73b-28a4d5f57ce3",
   "metadata": {},
   "source": [
    "##### Now, we have the required value for scores for each of the cluster in the index of our column. Let's save them as RecencyScore"
   ]
  },
  {
   "cell_type": "code",
   "execution_count": 14,
   "id": "d5e214f7-0473-47b3-8349-c234f8ac04ab",
   "metadata": {},
   "outputs": [],
   "source": [
    "# Creating a new column called index with the index values\n",
    "df_new['RecencyScore'] = df_new.index"
   ]
  },
  {
   "cell_type": "code",
   "execution_count": 15,
   "id": "fb5e7395-dbf3-4f0c-a2a0-9d00a04452f3",
   "metadata": {},
   "outputs": [
    {
     "data": {
      "text/html": [
       "<div>\n",
       "<style scoped>\n",
       "    .dataframe tbody tr th:only-of-type {\n",
       "        vertical-align: middle;\n",
       "    }\n",
       "\n",
       "    .dataframe tbody tr th {\n",
       "        vertical-align: top;\n",
       "    }\n",
       "\n",
       "    .dataframe thead th {\n",
       "        text-align: right;\n",
       "    }\n",
       "</style>\n",
       "<table border=\"1\" class=\"dataframe\">\n",
       "  <thead>\n",
       "    <tr style=\"text-align: right;\">\n",
       "      <th></th>\n",
       "      <th>RecencyCluster</th>\n",
       "      <th>RecencyMean</th>\n",
       "      <th>RecencyScore</th>\n",
       "    </tr>\n",
       "  </thead>\n",
       "  <tbody>\n",
       "    <tr>\n",
       "      <th>0</th>\n",
       "      <td>1</td>\n",
       "      <td>305.363806</td>\n",
       "      <td>0</td>\n",
       "    </tr>\n",
       "    <tr>\n",
       "      <th>1</th>\n",
       "      <td>2</td>\n",
       "      <td>184.598387</td>\n",
       "      <td>1</td>\n",
       "    </tr>\n",
       "    <tr>\n",
       "      <th>2</th>\n",
       "      <td>3</td>\n",
       "      <td>77.814920</td>\n",
       "      <td>2</td>\n",
       "    </tr>\n",
       "    <tr>\n",
       "      <th>3</th>\n",
       "      <td>0</td>\n",
       "      <td>17.397311</td>\n",
       "      <td>3</td>\n",
       "    </tr>\n",
       "  </tbody>\n",
       "</table>\n",
       "</div>"
      ],
      "text/plain": [
       "   RecencyCluster  RecencyMean  RecencyScore\n",
       "0               1   305.363806             0\n",
       "1               2   184.598387             1\n",
       "2               3    77.814920             2\n",
       "3               0    17.397311             3"
      ]
     },
     "execution_count": 15,
     "metadata": {},
     "output_type": "execute_result"
    }
   ],
   "source": [
    "df_new"
   ]
  },
  {
   "cell_type": "markdown",
   "id": "46531317-7dd5-4a73-81c4-0d0763438075",
   "metadata": {},
   "source": [
    "##### Next, let's merge the original user_df with the new dataframe to add the value of Recency score into our dataframe"
   ]
  },
  {
   "cell_type": "code",
   "execution_count": 16,
   "id": "a7d9c85a-9877-4365-8d8d-0424c896ba78",
   "metadata": {},
   "outputs": [],
   "source": [
    "# Merging the user_df with df_new based on the common 'RecencyCluster' column\n",
    "df_user = pd.merge(user_df, df_new[[\"RecencyCluster\", \"RecencyScore\"]], on=\"RecencyCluster\")\n",
    "\n",
    "# Removing the column for cluster\n",
    "df_user.drop(\"RecencyCluster\", axis=1, inplace=True)"
   ]
  },
  {
   "cell_type": "code",
   "execution_count": 17,
   "id": "a5a674a1-9ede-47cd-ac0b-50da4ff7c848",
   "metadata": {},
   "outputs": [
    {
     "data": {
      "text/html": [
       "<div>\n",
       "<style scoped>\n",
       "    .dataframe tbody tr th:only-of-type {\n",
       "        vertical-align: middle;\n",
       "    }\n",
       "\n",
       "    .dataframe tbody tr th {\n",
       "        vertical-align: top;\n",
       "    }\n",
       "\n",
       "    .dataframe thead th {\n",
       "        text-align: right;\n",
       "    }\n",
       "</style>\n",
       "<table border=\"1\" class=\"dataframe\">\n",
       "  <thead>\n",
       "    <tr style=\"text-align: right;\">\n",
       "      <th></th>\n",
       "      <th>CustomerID</th>\n",
       "      <th>Recency</th>\n",
       "      <th>Frequency</th>\n",
       "      <th>Revenue</th>\n",
       "      <th>RecencyScore</th>\n",
       "    </tr>\n",
       "  </thead>\n",
       "  <tbody>\n",
       "    <tr>\n",
       "      <th>0</th>\n",
       "      <td>18074</td>\n",
       "      <td>373</td>\n",
       "      <td>13</td>\n",
       "      <td>489.60</td>\n",
       "      <td>0</td>\n",
       "    </tr>\n",
       "    <tr>\n",
       "      <th>1</th>\n",
       "      <td>13747</td>\n",
       "      <td>373</td>\n",
       "      <td>1</td>\n",
       "      <td>79.60</td>\n",
       "      <td>0</td>\n",
       "    </tr>\n",
       "    <tr>\n",
       "      <th>2</th>\n",
       "      <td>12791</td>\n",
       "      <td>373</td>\n",
       "      <td>2</td>\n",
       "      <td>192.60</td>\n",
       "      <td>0</td>\n",
       "    </tr>\n",
       "    <tr>\n",
       "      <th>3</th>\n",
       "      <td>17908</td>\n",
       "      <td>373</td>\n",
       "      <td>58</td>\n",
       "      <td>243.28</td>\n",
       "      <td>0</td>\n",
       "    </tr>\n",
       "    <tr>\n",
       "      <th>4</th>\n",
       "      <td>16583</td>\n",
       "      <td>373</td>\n",
       "      <td>14</td>\n",
       "      <td>233.45</td>\n",
       "      <td>0</td>\n",
       "    </tr>\n",
       "  </tbody>\n",
       "</table>\n",
       "</div>"
      ],
      "text/plain": [
       "   CustomerID  Recency  Frequency  Revenue  RecencyScore\n",
       "0       18074      373         13   489.60             0\n",
       "1       13747      373          1    79.60             0\n",
       "2       12791      373          2   192.60             0\n",
       "3       17908      373         58   243.28             0\n",
       "4       16583      373         14   233.45             0"
      ]
     },
     "execution_count": 17,
     "metadata": {},
     "output_type": "execute_result"
    }
   ],
   "source": [
    "# Displaying the first few rows\n",
    "df_user.head()"
   ]
  },
  {
   "cell_type": "markdown",
   "id": "28b13dc1-2f4a-48b0-a6a3-3a8eb4511784",
   "metadata": {},
   "source": [
    "##### Reviewing the statistical metrics of the clusters"
   ]
  },
  {
   "cell_type": "code",
   "execution_count": 18,
   "id": "93106964-2963-401c-b1a7-610267118692",
   "metadata": {},
   "outputs": [
    {
     "data": {
      "text/html": [
       "<div>\n",
       "<style scoped>\n",
       "    .dataframe tbody tr th:only-of-type {\n",
       "        vertical-align: middle;\n",
       "    }\n",
       "\n",
       "    .dataframe tbody tr th {\n",
       "        vertical-align: top;\n",
       "    }\n",
       "\n",
       "    .dataframe thead th {\n",
       "        text-align: right;\n",
       "    }\n",
       "</style>\n",
       "<table border=\"1\" class=\"dataframe\">\n",
       "  <thead>\n",
       "    <tr style=\"text-align: right;\">\n",
       "      <th></th>\n",
       "      <th>count</th>\n",
       "      <th>mean</th>\n",
       "      <th>std</th>\n",
       "      <th>min</th>\n",
       "      <th>25%</th>\n",
       "      <th>50%</th>\n",
       "      <th>75%</th>\n",
       "      <th>max</th>\n",
       "    </tr>\n",
       "    <tr>\n",
       "      <th>RecencyScore</th>\n",
       "      <th></th>\n",
       "      <th></th>\n",
       "      <th></th>\n",
       "      <th></th>\n",
       "      <th></th>\n",
       "      <th></th>\n",
       "      <th></th>\n",
       "      <th></th>\n",
       "    </tr>\n",
       "  </thead>\n",
       "  <tbody>\n",
       "    <tr>\n",
       "      <th>0</th>\n",
       "      <td>536.0</td>\n",
       "      <td>305.363806</td>\n",
       "      <td>40.645494</td>\n",
       "      <td>245.0</td>\n",
       "      <td>268.0</td>\n",
       "      <td>301.0</td>\n",
       "      <td>336.0</td>\n",
       "      <td>373.0</td>\n",
       "    </tr>\n",
       "    <tr>\n",
       "      <th>1</th>\n",
       "      <td>620.0</td>\n",
       "      <td>184.598387</td>\n",
       "      <td>32.161271</td>\n",
       "      <td>132.0</td>\n",
       "      <td>156.0</td>\n",
       "      <td>184.0</td>\n",
       "      <td>212.0</td>\n",
       "      <td>244.0</td>\n",
       "    </tr>\n",
       "    <tr>\n",
       "      <th>2</th>\n",
       "      <td>1059.0</td>\n",
       "      <td>77.814920</td>\n",
       "      <td>22.830097</td>\n",
       "      <td>48.0</td>\n",
       "      <td>59.0</td>\n",
       "      <td>73.0</td>\n",
       "      <td>93.5</td>\n",
       "      <td>131.0</td>\n",
       "    </tr>\n",
       "    <tr>\n",
       "      <th>3</th>\n",
       "      <td>2157.0</td>\n",
       "      <td>17.397311</td>\n",
       "      <td>13.188805</td>\n",
       "      <td>0.0</td>\n",
       "      <td>6.0</td>\n",
       "      <td>16.0</td>\n",
       "      <td>28.0</td>\n",
       "      <td>47.0</td>\n",
       "    </tr>\n",
       "  </tbody>\n",
       "</table>\n",
       "</div>"
      ],
      "text/plain": [
       "               count        mean        std    min    25%    50%    75%    max\n",
       "RecencyScore                                                                  \n",
       "0              536.0  305.363806  40.645494  245.0  268.0  301.0  336.0  373.0\n",
       "1              620.0  184.598387  32.161271  132.0  156.0  184.0  212.0  244.0\n",
       "2             1059.0   77.814920  22.830097   48.0   59.0   73.0   93.5  131.0\n",
       "3             2157.0   17.397311  13.188805    0.0    6.0   16.0   28.0   47.0"
      ]
     },
     "execution_count": 18,
     "metadata": {},
     "output_type": "execute_result"
    }
   ],
   "source": [
    "# Displaying the details of each cluster\n",
    "df_user.groupby('RecencyScore')['Recency'].describe()"
   ]
  },
  {
   "cell_type": "markdown",
   "id": "b76c9023-5c79-4950-942b-4b1eb0d2d4d7",
   "metadata": {},
   "source": [
    "#### Segmenting Customers based on Frequency"
   ]
  },
  {
   "cell_type": "markdown",
   "id": "6a1b8b7e-a4c5-42f4-9c33-7ce16c80cba1",
   "metadata": {},
   "source": [
    "##### Fitting the model object into the frequency values in our dataframe"
   ]
  },
  {
   "cell_type": "code",
   "execution_count": 25,
   "id": "dee504e6-dddf-45f2-8878-87e684ebf80c",
   "metadata": {},
   "outputs": [
    {
     "data": {
      "text/plain": [
       "KMeans(n_clusters=4)"
      ]
     },
     "execution_count": 25,
     "metadata": {},
     "output_type": "execute_result"
    }
   ],
   "source": [
    "# Fitting the model\n",
    "kmeans.fit(df_user[['Frequency']])"
   ]
  },
  {
   "cell_type": "markdown",
   "id": "b1c823cc-b69a-4033-86d9-0a0b2edcedd8",
   "metadata": {},
   "source": [
    "##### Predicting the value of clusters and saving them as a new column FrequencyCluster in the dataframe"
   ]
  },
  {
   "cell_type": "code",
   "execution_count": 26,
   "id": "e9f68672-4cb6-4e01-a13b-62099e332059",
   "metadata": {},
   "outputs": [],
   "source": [
    "# Predicting cluster using the fitted model\n",
    "df_user['FrequencyCluster'] = kmeans.predict(df_user[['Frequency']])"
   ]
  },
  {
   "cell_type": "code",
   "execution_count": 28,
   "id": "9dafe158-f583-49af-a2c9-2e241b4564d0",
   "metadata": {},
   "outputs": [
    {
     "data": {
      "text/html": [
       "<div>\n",
       "<style scoped>\n",
       "    .dataframe tbody tr th:only-of-type {\n",
       "        vertical-align: middle;\n",
       "    }\n",
       "\n",
       "    .dataframe tbody tr th {\n",
       "        vertical-align: top;\n",
       "    }\n",
       "\n",
       "    .dataframe thead th {\n",
       "        text-align: right;\n",
       "    }\n",
       "</style>\n",
       "<table border=\"1\" class=\"dataframe\">\n",
       "  <thead>\n",
       "    <tr style=\"text-align: right;\">\n",
       "      <th></th>\n",
       "      <th>CustomerID</th>\n",
       "      <th>Recency</th>\n",
       "      <th>Frequency</th>\n",
       "      <th>Revenue</th>\n",
       "      <th>RecencyScore</th>\n",
       "      <th>FrequencyCluster</th>\n",
       "    </tr>\n",
       "  </thead>\n",
       "  <tbody>\n",
       "    <tr>\n",
       "      <th>0</th>\n",
       "      <td>18074</td>\n",
       "      <td>373</td>\n",
       "      <td>13</td>\n",
       "      <td>489.60</td>\n",
       "      <td>0</td>\n",
       "      <td>0</td>\n",
       "    </tr>\n",
       "    <tr>\n",
       "      <th>1</th>\n",
       "      <td>13747</td>\n",
       "      <td>373</td>\n",
       "      <td>1</td>\n",
       "      <td>79.60</td>\n",
       "      <td>0</td>\n",
       "      <td>0</td>\n",
       "    </tr>\n",
       "    <tr>\n",
       "      <th>2</th>\n",
       "      <td>12791</td>\n",
       "      <td>373</td>\n",
       "      <td>2</td>\n",
       "      <td>192.60</td>\n",
       "      <td>0</td>\n",
       "      <td>0</td>\n",
       "    </tr>\n",
       "    <tr>\n",
       "      <th>3</th>\n",
       "      <td>17908</td>\n",
       "      <td>373</td>\n",
       "      <td>58</td>\n",
       "      <td>243.28</td>\n",
       "      <td>0</td>\n",
       "      <td>0</td>\n",
       "    </tr>\n",
       "    <tr>\n",
       "      <th>4</th>\n",
       "      <td>16583</td>\n",
       "      <td>373</td>\n",
       "      <td>14</td>\n",
       "      <td>233.45</td>\n",
       "      <td>0</td>\n",
       "      <td>0</td>\n",
       "    </tr>\n",
       "  </tbody>\n",
       "</table>\n",
       "</div>"
      ],
      "text/plain": [
       "   CustomerID  Recency  Frequency  Revenue  RecencyScore  FrequencyCluster\n",
       "0       18074      373         13   489.60             0                 0\n",
       "1       13747      373          1    79.60             0                 0\n",
       "2       12791      373          2   192.60             0                 0\n",
       "3       17908      373         58   243.28             0                 0\n",
       "4       16583      373         14   233.45             0                 0"
      ]
     },
     "execution_count": 28,
     "metadata": {},
     "output_type": "execute_result"
    }
   ],
   "source": [
    "# Displaying the first few rows\n",
    "df_user.head()"
   ]
  },
  {
   "cell_type": "markdown",
   "id": "aad88a62-f863-4787-beb1-1ac7d87069e0",
   "metadata": {},
   "source": [
    "##### Now, the customers has been segmented based on Recency into 4 different clusters"
   ]
  },
  {
   "cell_type": "markdown",
   "id": "10c7a620-cbc1-44f1-9dfb-2eef437e2234",
   "metadata": {},
   "source": [
    "##### Next, let's see the distribution of data in the 4 clusters"
   ]
  },
  {
   "cell_type": "code",
   "execution_count": 29,
   "id": "1366b268-b042-47c2-b8ed-1d03641dc475",
   "metadata": {},
   "outputs": [
    {
     "data": {
      "text/plain": [
       "<AxesSubplot:xlabel='FrequencyCluster'>"
      ]
     },
     "execution_count": 29,
     "metadata": {},
     "output_type": "execute_result"
    },
    {
     "data": {
      "image/png": "[encoded data removed]",
      "text/plain": [
       "<Figure size 432x288 with 1 Axes>"
      ]
     },
     "metadata": {
      "needs_background": "light"
     },
     "output_type": "display_data"
    }
   ],
   "source": [
    "# Plotting the count of data in each cluster\n",
    "df_user['FrequencyCluster'].value_counts().plot.bar()"
   ]
  },
  {
   "cell_type": "markdown",
   "id": "53e4d6e8-bfa3-4952-9251-cf7640d900fb",
   "metadata": {},
   "source": [
    "##### The data has been distributed into different clusters namely 0, 1, 2, and 3. However, the K-Means Algorithm does not differentiate the ranking of clusters based on their order. Hence, let's order them based on their mean values"
   ]
  },
  {
   "cell_type": "code",
   "execution_count": 30,
   "id": "13ce4fbb-f63a-4bf3-acb3-0d231bd855f0",
   "metadata": {},
   "outputs": [],
   "source": [
    "# Ordering cluster numbers\n",
    "def order_cluster(cluster_name, column_name, df, ascending):\n",
    "    \"\"\"\n",
    "    Order clusters based on their mean value\n",
    "    \"\"\"\n",
    "    \n",
    "    # Creating a new dataframe by grouping the dataframe based on different cluster values and finding the mean\n",
    "    df_new = df.groupby(cluster_name)[column_name].mean().reset_index()\n",
    "    \n",
    "    # Sorting the values\n",
    "    df_new = df_new.sort_values(by=column_name, ascending=ascending).reset_index(drop=True)\n",
    "    \n",
    "    # Creating a new column with the index values as Score\n",
    "    new_column = column_name + \"Score\"\n",
    "    df_new[new_column] = df_new.index\n",
    "    \n",
    "    # Creating a final dataframe by merging our original dataframe and the new dataframe\n",
    "    df_final = pd.merge(df, df_new[[cluster_name, new_column]], on=cluster_name)\n",
    "    \n",
    "    # Removing the column for cluster\n",
    "    df_final.drop(cluster_name, axis=1, inplace=True)\n",
    "    \n",
    "    return df_final   \n",
    "    \n",
    "    "
   ]
  },
  {
   "cell_type": "code",
   "execution_count": 31,
   "id": "1662b42f-d694-4cbe-8a05-4f89e5aea27c",
   "metadata": {},
   "outputs": [],
   "source": [
    "# Ordering the frequency cluster\n",
    "df_user = order_cluster('FrequencyCluster', 'Frequency', df_user, True)"
   ]
  },
  {
   "cell_type": "code",
   "execution_count": 32,
   "id": "bc73f686-3116-403a-bad0-c2a098badafb",
   "metadata": {},
   "outputs": [
    {
     "data": {
      "text/html": [
       "<div>\n",
       "<style scoped>\n",
       "    .dataframe tbody tr th:only-of-type {\n",
       "        vertical-align: middle;\n",
       "    }\n",
       "\n",
       "    .dataframe tbody tr th {\n",
       "        vertical-align: top;\n",
       "    }\n",
       "\n",
       "    .dataframe thead th {\n",
       "        text-align: right;\n",
       "    }\n",
       "</style>\n",
       "<table border=\"1\" class=\"dataframe\">\n",
       "  <thead>\n",
       "    <tr style=\"text-align: right;\">\n",
       "      <th></th>\n",
       "      <th>CustomerID</th>\n",
       "      <th>Recency</th>\n",
       "      <th>Frequency</th>\n",
       "      <th>Revenue</th>\n",
       "      <th>RecencyScore</th>\n",
       "      <th>FrequencyScore</th>\n",
       "    </tr>\n",
       "  </thead>\n",
       "  <tbody>\n",
       "    <tr>\n",
       "      <th>0</th>\n",
       "      <td>18074</td>\n",
       "      <td>373</td>\n",
       "      <td>13</td>\n",
       "      <td>489.60</td>\n",
       "      <td>0</td>\n",
       "      <td>0</td>\n",
       "    </tr>\n",
       "    <tr>\n",
       "      <th>1</th>\n",
       "      <td>13747</td>\n",
       "      <td>373</td>\n",
       "      <td>1</td>\n",
       "      <td>79.60</td>\n",
       "      <td>0</td>\n",
       "      <td>0</td>\n",
       "    </tr>\n",
       "    <tr>\n",
       "      <th>2</th>\n",
       "      <td>12791</td>\n",
       "      <td>373</td>\n",
       "      <td>2</td>\n",
       "      <td>192.60</td>\n",
       "      <td>0</td>\n",
       "      <td>0</td>\n",
       "    </tr>\n",
       "    <tr>\n",
       "      <th>3</th>\n",
       "      <td>17908</td>\n",
       "      <td>373</td>\n",
       "      <td>58</td>\n",
       "      <td>243.28</td>\n",
       "      <td>0</td>\n",
       "      <td>0</td>\n",
       "    </tr>\n",
       "    <tr>\n",
       "      <th>4</th>\n",
       "      <td>16583</td>\n",
       "      <td>373</td>\n",
       "      <td>14</td>\n",
       "      <td>233.45</td>\n",
       "      <td>0</td>\n",
       "      <td>0</td>\n",
       "    </tr>\n",
       "  </tbody>\n",
       "</table>\n",
       "</div>"
      ],
      "text/plain": [
       "   CustomerID  Recency  Frequency  Revenue  RecencyScore  FrequencyScore\n",
       "0       18074      373         13   489.60             0               0\n",
       "1       13747      373          1    79.60             0               0\n",
       "2       12791      373          2   192.60             0               0\n",
       "3       17908      373         58   243.28             0               0\n",
       "4       16583      373         14   233.45             0               0"
      ]
     },
     "execution_count": 32,
     "metadata": {},
     "output_type": "execute_result"
    }
   ],
   "source": [
    "# Displaying the first few rows\n",
    "df_user.head()"
   ]
  },
  {
   "cell_type": "markdown",
   "id": "a077b43f-7c51-4584-8a08-379c750e1166",
   "metadata": {},
   "source": [
    "##### Reviewing the statistical metrics of the clusters"
   ]
  },
  {
   "cell_type": "code",
   "execution_count": 33,
   "id": "de0d1c82-aa7f-4a9e-9a1a-be831fce6395",
   "metadata": {},
   "outputs": [
    {
     "data": {
      "text/html": [
       "<div>\n",
       "<style scoped>\n",
       "    .dataframe tbody tr th:only-of-type {\n",
       "        vertical-align: middle;\n",
       "    }\n",
       "\n",
       "    .dataframe tbody tr th {\n",
       "        vertical-align: top;\n",
       "    }\n",
       "\n",
       "    .dataframe thead th {\n",
       "        text-align: right;\n",
       "    }\n",
       "</style>\n",
       "<table border=\"1\" class=\"dataframe\">\n",
       "  <thead>\n",
       "    <tr style=\"text-align: right;\">\n",
       "      <th></th>\n",
       "      <th>count</th>\n",
       "      <th>mean</th>\n",
       "      <th>std</th>\n",
       "      <th>min</th>\n",
       "      <th>25%</th>\n",
       "      <th>50%</th>\n",
       "      <th>75%</th>\n",
       "      <th>max</th>\n",
       "    </tr>\n",
       "    <tr>\n",
       "      <th>FrequencyScore</th>\n",
       "      <th></th>\n",
       "      <th></th>\n",
       "      <th></th>\n",
       "      <th></th>\n",
       "      <th></th>\n",
       "      <th></th>\n",
       "      <th></th>\n",
       "      <th></th>\n",
       "    </tr>\n",
       "  </thead>\n",
       "  <tbody>\n",
       "    <tr>\n",
       "      <th>0</th>\n",
       "      <td>3862.0</td>\n",
       "      <td>49.753755</td>\n",
       "      <td>44.812998</td>\n",
       "      <td>1.0</td>\n",
       "      <td>15.0</td>\n",
       "      <td>34.0</td>\n",
       "      <td>73.0</td>\n",
       "      <td>189.0</td>\n",
       "    </tr>\n",
       "    <tr>\n",
       "      <th>1</th>\n",
       "      <td>482.0</td>\n",
       "      <td>329.105809</td>\n",
       "      <td>132.667903</td>\n",
       "      <td>190.0</td>\n",
       "      <td>228.0</td>\n",
       "      <td>286.0</td>\n",
       "      <td>393.5</td>\n",
       "      <td>803.0</td>\n",
       "    </tr>\n",
       "    <tr>\n",
       "      <th>2</th>\n",
       "      <td>24.0</td>\n",
       "      <td>1349.750000</td>\n",
       "      <td>508.637759</td>\n",
       "      <td>872.0</td>\n",
       "      <td>1003.5</td>\n",
       "      <td>1156.0</td>\n",
       "      <td>1541.0</td>\n",
       "      <td>2782.0</td>\n",
       "    </tr>\n",
       "    <tr>\n",
       "      <th>3</th>\n",
       "      <td>4.0</td>\n",
       "      <td>5914.000000</td>\n",
       "      <td>1473.845537</td>\n",
       "      <td>4642.0</td>\n",
       "      <td>5006.5</td>\n",
       "      <td>5515.5</td>\n",
       "      <td>6423.0</td>\n",
       "      <td>7983.0</td>\n",
       "    </tr>\n",
       "  </tbody>\n",
       "</table>\n",
       "</div>"
      ],
      "text/plain": [
       "                 count         mean          std     min     25%     50%  \\\n",
       "FrequencyScore                                                             \n",
       "0               3862.0    49.753755    44.812998     1.0    15.0    34.0   \n",
       "1                482.0   329.105809   132.667903   190.0   228.0   286.0   \n",
       "2                 24.0  1349.750000   508.637759   872.0  1003.5  1156.0   \n",
       "3                  4.0  5914.000000  1473.845537  4642.0  5006.5  5515.5   \n",
       "\n",
       "                   75%     max  \n",
       "FrequencyScore                  \n",
       "0                 73.0   189.0  \n",
       "1                393.5   803.0  \n",
       "2               1541.0  2782.0  \n",
       "3               6423.0  7983.0  "
      ]
     },
     "execution_count": 33,
     "metadata": {},
     "output_type": "execute_result"
    }
   ],
   "source": [
    "# Displaying the details of each cluster\n",
    "df_user.groupby('FrequencyScore')['Frequency'].describe()"
   ]
  },
  {
   "cell_type": "markdown",
   "id": "c634c000-d51e-4b82-818a-f4ad1f99ac6e",
   "metadata": {},
   "source": [
    "#### Segmenting Customers based on Revenue"
   ]
  },
  {
   "cell_type": "markdown",
   "id": "0eb140fd-ba78-4a62-8aa9-8c0580ec31ec",
   "metadata": {},
   "source": [
    "##### Fitting the model object into the revenue values in our dataframe"
   ]
  },
  {
   "cell_type": "code",
   "execution_count": 34,
   "id": "2ee4cdf3-223a-4058-82b9-0a0f35b50403",
   "metadata": {},
   "outputs": [
    {
     "data": {
      "text/plain": [
       "KMeans(n_clusters=4)"
      ]
     },
     "execution_count": 34,
     "metadata": {},
     "output_type": "execute_result"
    }
   ],
   "source": [
    "# Fitting the model\n",
    "kmeans.fit(df_user[['Revenue']])"
   ]
  },
  {
   "cell_type": "markdown",
   "id": "045d23fa-bd5a-4d90-9f6f-6e0803e5219a",
   "metadata": {},
   "source": [
    "##### Predicting the value of clusters and saving them as a new column RevenueCluster in the dataframe"
   ]
  },
  {
   "cell_type": "code",
   "execution_count": 35,
   "id": "8edaf1da-c502-4915-821f-9e01512c1b28",
   "metadata": {},
   "outputs": [],
   "source": [
    "# Predicting cluster using the fitted model\n",
    "df_user['RevenueCluster'] = kmeans.predict(df_user[['Revenue']])"
   ]
  },
  {
   "cell_type": "code",
   "execution_count": 36,
   "id": "d480be32-f717-4ae7-b0e8-9a6993fb53f8",
   "metadata": {},
   "outputs": [
    {
     "data": {
      "text/html": [
       "<div>\n",
       "<style scoped>\n",
       "    .dataframe tbody tr th:only-of-type {\n",
       "        vertical-align: middle;\n",
       "    }\n",
       "\n",
       "    .dataframe tbody tr th {\n",
       "        vertical-align: top;\n",
       "    }\n",
       "\n",
       "    .dataframe thead th {\n",
       "        text-align: right;\n",
       "    }\n",
       "</style>\n",
       "<table border=\"1\" class=\"dataframe\">\n",
       "  <thead>\n",
       "    <tr style=\"text-align: right;\">\n",
       "      <th></th>\n",
       "      <th>CustomerID</th>\n",
       "      <th>Recency</th>\n",
       "      <th>Frequency</th>\n",
       "      <th>Revenue</th>\n",
       "      <th>RecencyScore</th>\n",
       "      <th>FrequencyScore</th>\n",
       "      <th>RevenueCluster</th>\n",
       "    </tr>\n",
       "  </thead>\n",
       "  <tbody>\n",
       "    <tr>\n",
       "      <th>0</th>\n",
       "      <td>18074</td>\n",
       "      <td>373</td>\n",
       "      <td>13</td>\n",
       "      <td>489.60</td>\n",
       "      <td>0</td>\n",
       "      <td>0</td>\n",
       "      <td>0</td>\n",
       "    </tr>\n",
       "    <tr>\n",
       "      <th>1</th>\n",
       "      <td>13747</td>\n",
       "      <td>373</td>\n",
       "      <td>1</td>\n",
       "      <td>79.60</td>\n",
       "      <td>0</td>\n",
       "      <td>0</td>\n",
       "      <td>0</td>\n",
       "    </tr>\n",
       "    <tr>\n",
       "      <th>2</th>\n",
       "      <td>12791</td>\n",
       "      <td>373</td>\n",
       "      <td>2</td>\n",
       "      <td>192.60</td>\n",
       "      <td>0</td>\n",
       "      <td>0</td>\n",
       "      <td>0</td>\n",
       "    </tr>\n",
       "    <tr>\n",
       "      <th>3</th>\n",
       "      <td>17908</td>\n",
       "      <td>373</td>\n",
       "      <td>58</td>\n",
       "      <td>243.28</td>\n",
       "      <td>0</td>\n",
       "      <td>0</td>\n",
       "      <td>0</td>\n",
       "    </tr>\n",
       "    <tr>\n",
       "      <th>4</th>\n",
       "      <td>16583</td>\n",
       "      <td>373</td>\n",
       "      <td>14</td>\n",
       "      <td>233.45</td>\n",
       "      <td>0</td>\n",
       "      <td>0</td>\n",
       "      <td>0</td>\n",
       "    </tr>\n",
       "  </tbody>\n",
       "</table>\n",
       "</div>"
      ],
      "text/plain": [
       "   CustomerID  Recency  Frequency  Revenue  RecencyScore  FrequencyScore  \\\n",
       "0       18074      373         13   489.60             0               0   \n",
       "1       13747      373          1    79.60             0               0   \n",
       "2       12791      373          2   192.60             0               0   \n",
       "3       17908      373         58   243.28             0               0   \n",
       "4       16583      373         14   233.45             0               0   \n",
       "\n",
       "   RevenueCluster  \n",
       "0               0  \n",
       "1               0  \n",
       "2               0  \n",
       "3               0  \n",
       "4               0  "
      ]
     },
     "execution_count": 36,
     "metadata": {},
     "output_type": "execute_result"
    }
   ],
   "source": [
    "# Displaying the first few rows\n",
    "df_user.head()"
   ]
  },
  {
   "cell_type": "markdown",
   "id": "67605317-e304-4867-91e7-1bf17438c0f6",
   "metadata": {},
   "source": [
    "##### Now, the customers has been segmented based on Revenue into 4 different clusters"
   ]
  },
  {
   "cell_type": "markdown",
   "id": "fca61c24-c30f-41bc-8ce4-7769756f0561",
   "metadata": {},
   "source": [
    "##### Next, let's see the distribution of data in the 4 clusters"
   ]
  },
  {
   "cell_type": "code",
   "execution_count": 37,
   "id": "fa3d78aa-0973-41b8-8d0f-5da9af717d33",
   "metadata": {},
   "outputs": [
    {
     "data": {
      "text/plain": [
       "<AxesSubplot:xlabel='RevenueCluster'>"
      ]
     },
     "execution_count": 37,
     "metadata": {},
     "output_type": "execute_result"
    },
    {
     "data": {
      "image/png": "[encoded data removed]",
      "text/plain": [
       "<Figure size 432x288 with 1 Axes>"
      ]
     },
     "metadata": {
      "needs_background": "light"
     },
     "output_type": "display_data"
    }
   ],
   "source": [
    "# Plotting the count of data in each cluster\n",
    "df_user['RevenueCluster'].value_counts().plot.bar()"
   ]
  },
  {
   "cell_type": "markdown",
   "id": "c2266fad-f147-41fe-99b7-7764a911aa54",
   "metadata": {},
   "source": [
    "##### The data has been distributed into different clusters namely 0, 1, 2, and 3. However, the K-Means Algorithm does not differentiate the ranking of clusters based on their order. Hence, let's order them using \"order_cluster\" function"
   ]
  },
  {
   "cell_type": "code",
   "execution_count": 38,
   "id": "99f28b52-0175-40ce-bd02-1ab56c7400a7",
   "metadata": {},
   "outputs": [],
   "source": [
    "# Ordering the frequency cluster\n",
    "df_user = order_cluster('RevenueCluster', 'Revenue', df_user, True)"
   ]
  },
  {
   "cell_type": "code",
   "execution_count": 39,
   "id": "4c629d67-de05-4608-a118-313e03419b48",
   "metadata": {},
   "outputs": [
    {
     "data": {
      "text/html": [
       "<div>\n",
       "<style scoped>\n",
       "    .dataframe tbody tr th:only-of-type {\n",
       "        vertical-align: middle;\n",
       "    }\n",
       "\n",
       "    .dataframe tbody tr th {\n",
       "        vertical-align: top;\n",
       "    }\n",
       "\n",
       "    .dataframe thead th {\n",
       "        text-align: right;\n",
       "    }\n",
       "</style>\n",
       "<table border=\"1\" class=\"dataframe\">\n",
       "  <thead>\n",
       "    <tr style=\"text-align: right;\">\n",
       "      <th></th>\n",
       "      <th>CustomerID</th>\n",
       "      <th>Recency</th>\n",
       "      <th>Frequency</th>\n",
       "      <th>Revenue</th>\n",
       "      <th>RecencyScore</th>\n",
       "      <th>FrequencyScore</th>\n",
       "      <th>RevenueScore</th>\n",
       "    </tr>\n",
       "  </thead>\n",
       "  <tbody>\n",
       "    <tr>\n",
       "      <th>0</th>\n",
       "      <td>18074</td>\n",
       "      <td>373</td>\n",
       "      <td>13</td>\n",
       "      <td>489.60</td>\n",
       "      <td>0</td>\n",
       "      <td>0</td>\n",
       "      <td>0</td>\n",
       "    </tr>\n",
       "    <tr>\n",
       "      <th>1</th>\n",
       "      <td>13747</td>\n",
       "      <td>373</td>\n",
       "      <td>1</td>\n",
       "      <td>79.60</td>\n",
       "      <td>0</td>\n",
       "      <td>0</td>\n",
       "      <td>0</td>\n",
       "    </tr>\n",
       "    <tr>\n",
       "      <th>2</th>\n",
       "      <td>12791</td>\n",
       "      <td>373</td>\n",
       "      <td>2</td>\n",
       "      <td>192.60</td>\n",
       "      <td>0</td>\n",
       "      <td>0</td>\n",
       "      <td>0</td>\n",
       "    </tr>\n",
       "    <tr>\n",
       "      <th>3</th>\n",
       "      <td>17908</td>\n",
       "      <td>373</td>\n",
       "      <td>58</td>\n",
       "      <td>243.28</td>\n",
       "      <td>0</td>\n",
       "      <td>0</td>\n",
       "      <td>0</td>\n",
       "    </tr>\n",
       "    <tr>\n",
       "      <th>4</th>\n",
       "      <td>16583</td>\n",
       "      <td>373</td>\n",
       "      <td>14</td>\n",
       "      <td>233.45</td>\n",
       "      <td>0</td>\n",
       "      <td>0</td>\n",
       "      <td>0</td>\n",
       "    </tr>\n",
       "  </tbody>\n",
       "</table>\n",
       "</div>"
      ],
      "text/plain": [
       "   CustomerID  Recency  Frequency  Revenue  RecencyScore  FrequencyScore  \\\n",
       "0       18074      373         13   489.60             0               0   \n",
       "1       13747      373          1    79.60             0               0   \n",
       "2       12791      373          2   192.60             0               0   \n",
       "3       17908      373         58   243.28             0               0   \n",
       "4       16583      373         14   233.45             0               0   \n",
       "\n",
       "   RevenueScore  \n",
       "0             0  \n",
       "1             0  \n",
       "2             0  \n",
       "3             0  \n",
       "4             0  "
      ]
     },
     "execution_count": 39,
     "metadata": {},
     "output_type": "execute_result"
    }
   ],
   "source": [
    "# Displaying the first few rows\n",
    "df_user.head()"
   ]
  },
  {
   "cell_type": "markdown",
   "id": "6e525d0b-8cf2-4c55-8e5c-349b3fd0b4c8",
   "metadata": {},
   "source": [
    "##### Reviewing the statistical metrics of the clusters"
   ]
  },
  {
   "cell_type": "code",
   "execution_count": 40,
   "id": "99a84659-8586-4dde-b622-55cd8ca2a65b",
   "metadata": {},
   "outputs": [
    {
     "data": {
      "text/html": [
       "<div>\n",
       "<style scoped>\n",
       "    .dataframe tbody tr th:only-of-type {\n",
       "        vertical-align: middle;\n",
       "    }\n",
       "\n",
       "    .dataframe tbody tr th {\n",
       "        vertical-align: top;\n",
       "    }\n",
       "\n",
       "    .dataframe thead th {\n",
       "        text-align: right;\n",
       "    }\n",
       "</style>\n",
       "<table border=\"1\" class=\"dataframe\">\n",
       "  <thead>\n",
       "    <tr style=\"text-align: right;\">\n",
       "      <th></th>\n",
       "      <th>count</th>\n",
       "      <th>mean</th>\n",
       "      <th>std</th>\n",
       "      <th>min</th>\n",
       "      <th>25%</th>\n",
       "      <th>50%</th>\n",
       "      <th>75%</th>\n",
       "      <th>max</th>\n",
       "    </tr>\n",
       "    <tr>\n",
       "      <th>RevenueScore</th>\n",
       "      <th></th>\n",
       "      <th></th>\n",
       "      <th></th>\n",
       "      <th></th>\n",
       "      <th></th>\n",
       "      <th></th>\n",
       "      <th></th>\n",
       "      <th></th>\n",
       "    </tr>\n",
       "  </thead>\n",
       "  <tbody>\n",
       "    <tr>\n",
       "      <th>0</th>\n",
       "      <td>4333.0</td>\n",
       "      <td>1463.977051</td>\n",
       "      <td>2287.153138</td>\n",
       "      <td>0.00</td>\n",
       "      <td>307.160</td>\n",
       "      <td>669.14</td>\n",
       "      <td>1638.53</td>\n",
       "      <td>21834.77</td>\n",
       "    </tr>\n",
       "    <tr>\n",
       "      <th>1</th>\n",
       "      <td>29.0</td>\n",
       "      <td>46034.246897</td>\n",
       "      <td>16436.726540</td>\n",
       "      <td>26205.97</td>\n",
       "      <td>32367.280</td>\n",
       "      <td>40894.95</td>\n",
       "      <td>60681.72</td>\n",
       "      <td>79183.50</td>\n",
       "    </tr>\n",
       "    <tr>\n",
       "      <th>2</th>\n",
       "      <td>7.0</td>\n",
       "      <td>137657.041429</td>\n",
       "      <td>35791.104561</td>\n",
       "      <td>93999.38</td>\n",
       "      <td>116216.095</td>\n",
       "      <td>126103.61</td>\n",
       "      <td>154722.35</td>\n",
       "      <td>201619.41</td>\n",
       "    </tr>\n",
       "    <tr>\n",
       "      <th>3</th>\n",
       "      <td>3.0</td>\n",
       "      <td>293580.410000</td>\n",
       "      <td>38621.235867</td>\n",
       "      <td>262876.11</td>\n",
       "      <td>271899.565</td>\n",
       "      <td>280923.02</td>\n",
       "      <td>308932.56</td>\n",
       "      <td>336942.10</td>\n",
       "    </tr>\n",
       "  </tbody>\n",
       "</table>\n",
       "</div>"
      ],
      "text/plain": [
       "               count           mean           std        min         25%  \\\n",
       "RevenueScore                                                               \n",
       "0             4333.0    1463.977051   2287.153138       0.00     307.160   \n",
       "1               29.0   46034.246897  16436.726540   26205.97   32367.280   \n",
       "2                7.0  137657.041429  35791.104561   93999.38  116216.095   \n",
       "3                3.0  293580.410000  38621.235867  262876.11  271899.565   \n",
       "\n",
       "                    50%        75%        max  \n",
       "RevenueScore                                   \n",
       "0                669.14    1638.53   21834.77  \n",
       "1              40894.95   60681.72   79183.50  \n",
       "2             126103.61  154722.35  201619.41  \n",
       "3             280923.02  308932.56  336942.10  "
      ]
     },
     "execution_count": 40,
     "metadata": {},
     "output_type": "execute_result"
    }
   ],
   "source": [
    "# Displaying the details of each cluster\n",
    "df_user.groupby('RevenueScore')['Revenue'].describe()"
   ]
  },
  {
   "cell_type": "markdown",
   "id": "8f3d1ff6-5589-4f1a-9adc-5b3dc781bddf",
   "metadata": {},
   "source": [
    "##### Finally, let's combine all the three values of score to compute the Overall RFM Score of each of the customers"
   ]
  },
  {
   "cell_type": "code",
   "execution_count": 41,
   "id": "9fd559d6-bf34-46aa-ae83-6cfe7a463d17",
   "metadata": {},
   "outputs": [],
   "source": [
    "# Calculating the overall score\n",
    "df_user['OverallRFMScore'] = df_user['RecencyScore'] + df_user['FrequencyScore'] + df_user['RevenueScore']"
   ]
  },
  {
   "cell_type": "markdown",
   "id": "6e9a5c68-40b4-4981-a5ad-175c90d95a00",
   "metadata": {},
   "source": [
    "##### Let's see the range of our Overall RFM Score"
   ]
  },
  {
   "cell_type": "code",
   "execution_count": 42,
   "id": "94296fda-e39a-4b6c-8e9a-b932f9106a24",
   "metadata": {},
   "outputs": [
    {
     "data": {
      "text/plain": [
       "array([0, 1, 2, 3, 4, 5, 6, 7, 8], dtype=int64)"
      ]
     },
     "execution_count": 42,
     "metadata": {},
     "output_type": "execute_result"
    }
   ],
   "source": [
    "# Printing the unique elements\n",
    "df_user['OverallRFMScore'].unique()"
   ]
  },
  {
   "cell_type": "markdown",
   "id": "bf4bc3e4-a38a-4694-bba9-c835b05196e8",
   "metadata": {},
   "source": [
    "##### There are 9 different scores for our data. Also, let's see the data distributin in these scores"
   ]
  },
  {
   "cell_type": "code",
   "execution_count": 43,
   "id": "ef0eafb9-ce8b-4b99-8c1e-002ac1d4db18",
   "metadata": {},
   "outputs": [
    {
     "data": {
      "text/plain": [
       "<AxesSubplot:xlabel='OverallRFMScore'>"
      ]
     },
     "execution_count": 43,
     "metadata": {},
     "output_type": "execute_result"
    },
    {
     "data": {
      "image/png": "[encoded data removed]",
      "text/plain": [
       "<Figure size 432x288 with 1 Axes>"
      ]
     },
     "metadata": {
      "needs_background": "light"
     },
     "output_type": "display_data"
    }
   ],
   "source": [
    "# Plotting a bar plot\n",
    "df_user['OverallRFMScore'].value_counts().plot.bar()"
   ]
  },
  {
   "cell_type": "code",
   "execution_count": 45,
   "id": "e4b2eb7b-b6da-4007-9970-cddc0dde12d6",
   "metadata": {},
   "outputs": [
    {
     "data": {
      "text/html": [
       "<div>\n",
       "<style scoped>\n",
       "    .dataframe tbody tr th:only-of-type {\n",
       "        vertical-align: middle;\n",
       "    }\n",
       "\n",
       "    .dataframe tbody tr th {\n",
       "        vertical-align: top;\n",
       "    }\n",
       "\n",
       "    .dataframe thead th {\n",
       "        text-align: right;\n",
       "    }\n",
       "</style>\n",
       "<table border=\"1\" class=\"dataframe\">\n",
       "  <thead>\n",
       "    <tr style=\"text-align: right;\">\n",
       "      <th></th>\n",
       "      <th>Recency</th>\n",
       "      <th>Frequency</th>\n",
       "      <th>Revenue</th>\n",
       "    </tr>\n",
       "    <tr>\n",
       "      <th>OverallRFMScore</th>\n",
       "      <th></th>\n",
       "      <th></th>\n",
       "      <th></th>\n",
       "    </tr>\n",
       "  </thead>\n",
       "  <tbody>\n",
       "    <tr>\n",
       "      <th>0</th>\n",
       "      <td>305.335835</td>\n",
       "      <td>22.223265</td>\n",
       "      <td>391.072927</td>\n",
       "    </tr>\n",
       "    <tr>\n",
       "      <th>1</th>\n",
       "      <td>185.136808</td>\n",
       "      <td>33.646580</td>\n",
       "      <td>628.201435</td>\n",
       "    </tr>\n",
       "    <tr>\n",
       "      <th>2</th>\n",
       "      <td>78.973735</td>\n",
       "      <td>47.052529</td>\n",
       "      <td>1261.142414</td>\n",
       "    </tr>\n",
       "    <tr>\n",
       "      <th>3</th>\n",
       "      <td>20.210313</td>\n",
       "      <td>71.219583</td>\n",
       "      <td>1442.585186</td>\n",
       "    </tr>\n",
       "    <tr>\n",
       "      <th>4</th>\n",
       "      <td>12.434272</td>\n",
       "      <td>329.495305</td>\n",
       "      <td>5796.577254</td>\n",
       "    </tr>\n",
       "    <tr>\n",
       "      <th>5</th>\n",
       "      <td>6.448276</td>\n",
       "      <td>880.620690</td>\n",
       "      <td>21600.481379</td>\n",
       "    </tr>\n",
       "    <tr>\n",
       "      <th>6</th>\n",
       "      <td>9.000000</td>\n",
       "      <td>1057.000000</td>\n",
       "      <td>122375.858750</td>\n",
       "    </tr>\n",
       "    <tr>\n",
       "      <th>7</th>\n",
       "      <td>2.500000</td>\n",
       "      <td>3447.000000</td>\n",
       "      <td>105244.833333</td>\n",
       "    </tr>\n",
       "    <tr>\n",
       "      <th>8</th>\n",
       "      <td>0.500000</td>\n",
       "      <td>3994.000000</td>\n",
       "      <td>218000.260000</td>\n",
       "    </tr>\n",
       "  </tbody>\n",
       "</table>\n",
       "</div>"
      ],
      "text/plain": [
       "                    Recency    Frequency        Revenue\n",
       "OverallRFMScore                                        \n",
       "0                305.335835    22.223265     391.072927\n",
       "1                185.136808    33.646580     628.201435\n",
       "2                 78.973735    47.052529    1261.142414\n",
       "3                 20.210313    71.219583    1442.585186\n",
       "4                 12.434272   329.495305    5796.577254\n",
       "5                  6.448276   880.620690   21600.481379\n",
       "6                  9.000000  1057.000000  122375.858750\n",
       "7                  2.500000  3447.000000  105244.833333\n",
       "8                  0.500000  3994.000000  218000.260000"
      ]
     },
     "execution_count": 45,
     "metadata": {},
     "output_type": "execute_result"
    }
   ],
   "source": [
    "# Grouping the OverallRFMScore column and getting the mean\n",
    "df_user.groupby('OverallRFMScore')[['Recency', 'Frequency', 'Revenue']].mean()"
   ]
  },
  {
   "cell_type": "markdown",
   "id": "1062d97b-ba60-4544-8cd1-8aed5dcee20e",
   "metadata": {},
   "source": [
    "##### According to the bar plot and mean table, it is evident that the majority of the data values seem to have a RFM Score of 3, followed by 2 and 1\n",
    "\n",
    "##### - A low RFM Score means that the customers have a low value of recency, are less frequent, and generate low revenue\n",
    "##### - A high RFM Score means that the customers have a high value of recency, are more frequent, and generate higher revenue"
   ]
  },
  {
   "cell_type": "markdown",
   "id": "9a148684-6981-47dc-8140-72e414b56bd3",
   "metadata": {},
   "source": [
    "#### Segmenting Customers based on Overall RFM Score"
   ]
  },
  {
   "cell_type": "markdown",
   "id": "227caac0-c891-4b11-82e1-1a44de1d61d6",
   "metadata": {},
   "source": [
    "Let's segment the customer into three groups based on overall RFM Score\n",
    "\n",
    "* Low-value\n",
    "* Mid-value\n",
    "* High-value"
   ]
  },
  {
   "cell_type": "code",
   "execution_count": 46,
   "id": "138aa4de-e937-430f-83c6-603459878d46",
   "metadata": {},
   "outputs": [],
   "source": [
    "# Segmenting the customers based on overall score\n",
    "df_user['Segment'] = 'Low-Value'\n",
    "df_user.loc[df_user['OverallRFMScore']>2, 'Segment'] = 'Mid-Value'\n",
    "df_user.loc[df_user['OverallRFMScore']>4, 'Segment'] = 'High-Value'"
   ]
  },
  {
   "cell_type": "code",
   "execution_count": 47,
   "id": "ef26cbfe-0050-4f1e-9831-2511d9cde89c",
   "metadata": {},
   "outputs": [
    {
     "data": {
      "text/plain": [
       "<AxesSubplot:xlabel='Segment'>"
      ]
     },
     "execution_count": 47,
     "metadata": {},
     "output_type": "execute_result"
    },
    {
     "data": {
      "image/png": "[encoded data removed]",
      "text/plain": [
       "<Figure size 432x288 with 1 Axes>"
      ]
     },
     "metadata": {
      "needs_background": "light"
     },
     "output_type": "display_data"
    }
   ],
   "source": [
    "# Plotting a bar plot\n",
    "df_user['Segment'].value_counts().plot.bar()"
   ]
  },
  {
   "cell_type": "markdown",
   "id": "28352742-067c-4f32-aaf8-333c9ba79813",
   "metadata": {},
   "source": [
    "##### It can be seen that we have a large amount of low and mid-value customers but very less amount of high-value customers. This segmentation can help us determine the kind of strategies and approaches needed for improving sales and profit, which will allow us to increase the number of high-value customers and their retention"
   ]
  },
  {
   "cell_type": "markdown",
   "id": "37f6be7c-9703-4c1a-9ce0-8b70b2a8be45",
   "metadata": {},
   "source": [
    "##### Let's plot the customer groups and view their segmentations visually"
   ]
  },
  {
   "cell_type": "markdown",
   "id": "bcbe28af-0152-4e46-a681-0cebc5c3f342",
   "metadata": {},
   "source": [
    "#### Frequency vs. Revenue"
   ]
  },
  {
   "cell_type": "code",
   "execution_count": 51,
   "id": "c402c997-33f1-4b14-828f-47dd4588ac80",
   "metadata": {},
   "outputs": [
    {
     "data": {
      "text/plain": [
       "Text(0, 0.5, 'Revenue')"
      ]
     },
     "execution_count": 51,
     "metadata": {},
     "output_type": "execute_result"
    },
    {
     "data": {
      "image/png": "[encoded data removed]",
      "text/plain": [
       "<Figure size 432x288 with 1 Axes>"
      ]
     },
     "metadata": {
      "needs_background": "light"
     },
     "output_type": "display_data"
    }
   ],
   "source": [
    "# Scatter plot of low-value customers\n",
    "plt.scatter(x=df_user.query(\"Segment == 'Low-Value'\")['Frequency'],\n",
    "            y=df_user.query(\"Segment == 'Low-Value'\")['Revenue'], label=\"Low-Value\")\n",
    "\n",
    "# Scatter plot of mid-value customers\n",
    "plt.scatter(x=df_user.query(\"Segment == 'Mid-Value'\")['Frequency'],\n",
    "            y=df_user.query(\"Segment == 'Mid-Value'\")['Revenue'], label=\"Mid-Value\")\n",
    "\n",
    "# Scatter plot of high-value customers\n",
    "plt.scatter(x=df_user.query(\"Segment == 'High-Value'\")['Frequency'],\n",
    "            y=df_user.query(\"Segment == 'High-Value'\")['Revenue'], label=\"High-Value\")\n",
    "\n",
    "# Easy visualization\n",
    "plt.legend(loc=\"upper right\")\n",
    "plt.title(\"Freqency vs. Revenue Segmentation\")\n",
    "plt.xlabel(\"Frequency\")\n",
    "plt.ylabel(\"Revenue\")"
   ]
  },
  {
   "cell_type": "markdown",
   "id": "cedaf138-6cb3-4750-bc66-7b01698c7df1",
   "metadata": {},
   "source": [
    "#### Recency vs. Revenue"
   ]
  },
  {
   "cell_type": "code",
   "execution_count": 53,
   "id": "9028e061-c2e3-443a-a108-8eb032ad5c92",
   "metadata": {},
   "outputs": [
    {
     "data": {
      "text/plain": [
       "Text(0, 0.5, 'Revenue')"
      ]
     },
     "execution_count": 53,
     "metadata": {},
     "output_type": "execute_result"
    },
    {
     "data": {
      "image/png": "[encoded data removed]",
      "text/plain": [
       "<Figure size 432x288 with 1 Axes>"
      ]
     },
     "metadata": {
      "needs_background": "light"
     },
     "output_type": "display_data"
    }
   ],
   "source": [
    "# Scatter plot of low-value customers\n",
    "plt.scatter(x=df_user.query(\"Segment == 'Low-Value'\")['Recency'],\n",
    "            y=df_user.query(\"Segment == 'Low-Value'\")['Revenue'], label=\"Low-Value\")\n",
    "\n",
    "# Scatter plot of mid-value customers\n",
    "plt.scatter(x=df_user.query(\"Segment == 'Mid-Value'\")['Recency'],\n",
    "            y=df_user.query(\"Segment == 'Mid-Value'\")['Revenue'], label=\"Mid-Value\")\n",
    "\n",
    "# Scatter plot of high-value customers\n",
    "plt.scatter(x=df_user.query(\"Segment == 'High-Value'\")['Recency'],\n",
    "            y=df_user.query(\"Segment == 'High-Value'\")['Revenue'], label=\"High-Value\")\n",
    "\n",
    "# Easy visualization\n",
    "plt.legend(loc=\"upper right\")\n",
    "plt.title(\"Recency vs. Revenue Segmentation\")\n",
    "plt.xlabel(\"Recency\")\n",
    "plt.ylabel(\"Revenue\")"
   ]
  },
  {
   "cell_type": "markdown",
   "id": "5fba968e-4d43-4c82-ae13-d37cbf481536",
   "metadata": {},
   "source": [
    "#### Recency vs. Frequency"
   ]
  },
  {
   "cell_type": "code",
   "execution_count": 54,
   "id": "7de1885d-46fc-42c6-8749-86239f5c593c",
   "metadata": {},
   "outputs": [
    {
     "data": {
      "text/plain": [
       "Text(0, 0.5, 'Frequency')"
      ]
     },
     "execution_count": 54,
     "metadata": {},
     "output_type": "execute_result"
    },
    {
     "data": {
      "image/png": "[encoded data removed]",
      "text/plain": [
       "<Figure size 432x288 with 1 Axes>"
      ]
     },
     "metadata": {
      "needs_background": "light"
     },
     "output_type": "display_data"
    }
   ],
   "source": [
    "# Scatter plot of low-value customers\n",
    "plt.scatter(x=df_user.query(\"Segment == 'Low-Value'\")['Recency'],\n",
    "            y=df_user.query(\"Segment == 'Low-Value'\")['Frequency'], label=\"Low-Value\")\n",
    "\n",
    "# Scatter plot of mid-value customers\n",
    "plt.scatter(x=df_user.query(\"Segment == 'Mid-Value'\")['Recency'],\n",
    "            y=df_user.query(\"Segment == 'Mid-Value'\")['Frequency'], label=\"Mid-Value\")\n",
    "\n",
    "# Scatter plot of high-value customers\n",
    "plt.scatter(x=df_user.query(\"Segment == 'High-Value'\")['Recency'],\n",
    "            y=df_user.query(\"Segment == 'High-Value'\")['Frequency'], label=\"High-Value\")\n",
    "\n",
    "# Easy visualization\n",
    "plt.legend(loc=\"upper right\")\n",
    "plt.title(\"Recency vs. Frequency Segmentation\")\n",
    "plt.xlabel(\"Recency\")\n",
    "plt.ylabel(\"Frequency\")"
   ]
  },
  {
   "cell_type": "markdown",
   "id": "de68f45e-2211-48f5-a227-805000dfeab4",
   "metadata": {},
   "source": [
    "#### Revenue vs. Frequency"
   ]
  },
  {
   "cell_type": "code",
   "execution_count": 55,
   "id": "f5cb9d51-0657-4994-add9-d83ad2791638",
   "metadata": {},
   "outputs": [
    {
     "data": {
      "text/plain": [
       "Text(0, 0.5, 'Frequency')"
      ]
     },
     "execution_count": 55,
     "metadata": {},
     "output_type": "execute_result"
    },
    {
     "data": {
      "image/png": "[encoded data removed]",
      "text/plain": [
       "<Figure size 432x288 with 1 Axes>"
      ]
     },
     "metadata": {
      "needs_background": "light"
     },
     "output_type": "display_data"
    }
   ],
   "source": [
    "# Scatter plot of low-value customers\n",
    "plt.scatter(x=df_user.query(\"Segment == 'Low-Value'\")['Revenue'],\n",
    "            y=df_user.query(\"Segment == 'Low-Value'\")['Frequency'], label=\"Low-Value\")\n",
    "\n",
    "# Scatter plot of mid-value customers\n",
    "plt.scatter(x=df_user.query(\"Segment == 'Mid-Value'\")['Revenue'],\n",
    "            y=df_user.query(\"Segment == 'Mid-Value'\")['Frequency'], label=\"Mid-Value\")\n",
    "\n",
    "# Scatter plot of high-value customers\n",
    "plt.scatter(x=df_user.query(\"Segment == 'High-Value'\")['Revenue'],\n",
    "            y=df_user.query(\"Segment == 'High-Value'\")['Frequency'], label=\"High-Value\")\n",
    "\n",
    "# Easy visualization\n",
    "plt.legend(loc=\"upper right\")\n",
    "plt.title(\"Revenue vs. Frequency Segmentation\")\n",
    "plt.xlabel(\"Revenue\")\n",
    "plt.ylabel(\"Frequency\")"
   ]
  },
  {
   "cell_type": "markdown",
   "id": "bd3993a2-3955-4db5-ac0c-3823d717f2cc",
   "metadata": {},
   "source": [
    "##### We have successfully segmented our customers and these segments can now help us in various processes of building the business such as sales and marketing"
   ]
  },
  {
   "cell_type": "code",
   "execution_count": 56,
   "id": "49ca15a4-c1be-4158-8254-11d3adccf493",
   "metadata": {},
   "outputs": [
    {
     "name": "stdout",
     "output_type": "stream",
     "text": [
      "Note: you may need to restart the kernel to use updated packages.\n"
     ]
    }
   ],
   "source": [
    "pip freeze > requirements.txt"
   ]
  }
 ],
 "metadata": {
  "kernelspec": {
   "display_name": "Python 3 (ipykernel)",
   "language": "python",
   "name": "python3"
  },
  "language_info": {
   "codemirror_mode": {
    "name": "ipython",
    "version": 3
   },
   "file_extension": ".py",
   "mimetype": "text/x-python",
   "name": "python",
   "nbconvert_exporter": "python",
   "pygments_lexer": "ipython3",
   "version": "3.9.12"
  }
 },
 "nbformat": 4,
 "nbformat_minor": 5
}
